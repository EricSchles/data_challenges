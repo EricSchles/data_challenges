{
 "cells": [
  {
   "cell_type": "code",
   "execution_count": 1,
   "metadata": {
    "collapsed": true
   },
   "outputs": [],
   "source": [
    "import pandas as pd\n",
    "from fuzzywuzzy import fuzz\n",
    "import jellyfish\n",
    "import numpy as np\n",
    "from geopy.geocoders import Nominatim, GoogleV3\n",
    "import pickle\n",
    "import spacy\n",
    "import string\n",
    "import operator\n",
    "import matplotlib \n",
    "from matplotlib import pyplot as plt\n",
    "%matplotlib inline"
   ]
  },
  {
   "cell_type": "code",
   "execution_count": 2,
   "metadata": {
    "collapsed": false
   },
   "outputs": [
    {
     "name": "stdout",
     "output_type": "stream",
     "text": [
      "List of columns for reference\n"
     ]
    },
    {
     "data": {
      "text/plain": [
       "Index(['lca_case_number', 'status', 'lca_case_submit', 'decision_date',\n",
       "       'visa_class', 'lca_case_employment_start_date',\n",
       "       'lca_case_employment_end_date', 'lca_case_employer_name',\n",
       "       'lca_case_employer_address', 'lca_case_employer_city',\n",
       "       'lca_case_employer_state', 'lca_case_employer_postal_code',\n",
       "       'lca_case_soc_code', 'lca_case_soc_name', 'lca_case_job_title',\n",
       "       'lca_case_wage_rate_from', 'lca_case_wage_rate_to',\n",
       "       'lca_case_wage_rate_unit', 'full_time_pos', 'total_workers',\n",
       "       'lca_case_workloc1_city', 'lca_case_workloc1_state', 'pw_1',\n",
       "       'pw_unit_1', 'pw_source_1', 'other_wage_source_1', 'yr_source_pub_1',\n",
       "       'lca_case_workloc2_city', 'lca_case_workloc2_state', 'pw_2',\n",
       "       'pw_unit_2', 'pw_source_2', 'other_wage_source_2', 'yr_source_pub_2',\n",
       "       'lca_case_naics_code'],\n",
       "      dtype='object')"
      ]
     },
     "execution_count": 2,
     "metadata": {},
     "output_type": "execute_result"
    }
   ],
   "source": [
    "df = pd.read_csv(\"1hb_2014.csv\")\n",
    "print(\"List of columns for reference\")\n",
    "df.columns"
   ]
  },
  {
   "cell_type": "markdown",
   "metadata": {},
   "source": [
    "# Warm Up - Question 1\n",
    "\n",
    "Problem definition:\n",
    "\n",
    "1. Which companies applied for the largest number of H­1B visas where the job opening was located in NYC? Please describe any issues you may encounter summarizing the data by employer name.\n",
    "\n",
    "Solution:\n",
    "\n",
    "There were many issues with this dataset.  The first of these problems was just deciding on what is semantically considered New York City.  Technically New York City is all 5 borroughs, which should be fine.  But the fields `lca_case_workloc1_city` and `lca_case_workloc2_city` which stores the locations of the job openning have multiple values that map semantically to something that is reasonable to describe as New York City.\n",
    "\n",
    "As you can see below, I enumerated all the possible choices for location in the 5 borroughs.  First I segmented the data into only New York state. "
   ]
  },
  {
   "cell_type": "code",
   "execution_count": 40,
   "metadata": {
    "collapsed": false
   },
   "outputs": [
    {
     "data": {
      "text/plain": [
       "765"
      ]
     },
     "execution_count": 40,
     "metadata": {},
     "output_type": "execute_result"
    }
   ],
   "source": [
    "first_work_location = df[df[\"lca_case_workloc1_state\"] == \"NY\"]\n",
    "second_work_location = df[df[\"lca_case_workloc2_state\"] == \"NY\"]\n",
    "loc1_cities = list(set(first_work_location[\"lca_case_workloc1_city\"]))\n",
    "loc2_cities = list(set(second_work_location[\"lca_case_workloc2_city\"]))\n",
    "total_cities = list(set(loc1_cities + loc2_cities))\n",
    "total_cities = [city for city in total_cities if city is not np.nan]\n",
    "len(total_cities)"
   ]
  },
  {
   "cell_type": "markdown",
   "metadata": {},
   "source": [
    "Because the number of total city names was small it was relatively easy to figure out all locations that belonged in new york city proper. First I looked for any city names that had new in them and copied those names that clearly meant new york city into a list in a cell below and named the list `new_york_city_names`"
   ]
  },
  {
   "cell_type": "code",
   "execution_count": 41,
   "metadata": {
    "collapsed": false
   },
   "outputs": [
    {
     "name": "stdout",
     "output_type": "stream",
     "text": [
      "NEW YROK\n",
      "SLEEPY HOLLOW, NEW YORK\n",
      "NEW YORK, 10003\n",
      "NEWYORK\n",
      "NEW WINDSOR\n",
      "CITY OF NEW YORK\n",
      "BRONX.NEW YORK\n",
      "NEW PALTZ\n",
      "NEW HYDE PARK\n",
      "NEW YORK, NY -\n",
      "NEW YORK NY\n",
      "NEW HAMPTON\n",
      "NEWBURGH\n",
      "NEW BERLIN\n",
      "METRO NEW YORK\n",
      "NEW HARTFORD\n",
      "NEW ORK\n",
      "NEW YOK\n",
      "MANHATTAN, NEW YORK\n",
      "NEW YORK\n",
      "NEW TORK\n",
      "NEW YOUR\n",
      "BRIDGEPORT / NEW YORK\n",
      "NEW YORK CITY\n",
      "NEWARK\n",
      "BRONX,NEW YORK\n",
      "NEWYORK CITY\n",
      "NEW YORK, NEW YORK\n",
      "NEW CITY\n",
      "NEW YORK,NEW YORK\n",
      "NEW\n",
      "NEW YORK, NY\n",
      "NEW WINDSOW\n",
      "NEW YOURK\n",
      "NEW ROCHELLE\n",
      "NEW YORK,\n",
      "NEW YORK CITY,\n",
      "BRONX, NEW YORK\n"
     ]
    }
   ],
   "source": [
    "for city in total_cities:\n",
    "    if \"NEW\" in city:\n",
    "        print(city)"
   ]
  },
  {
   "cell_type": "markdown",
   "metadata": {},
   "source": [
    "Then I looked around for other obvious New York City locations.  The next thing I did was get a bounding box for New York City from this site: https://www.mapdevelopers.com/geocode_bounding_box.php\n",
    "\n",
    "Using that bounding box, I made use of geopy to map the city names, to the lat longs.  If the lat longs were inside the bounding box, then I considered adding it to the list:"
   ]
  },
  {
   "cell_type": "code",
   "execution_count": 62,
   "metadata": {
    "collapsed": true
   },
   "outputs": [],
   "source": [
    "google_api_key = pickle.load(open(\"google_geocoder_api.creds\",\"rb\"))\n",
    "locations = []\n",
    "google_encoder = GoogleV3(google_api_key)\n",
    "nominatim_encoder = Nominatim()\n",
    "city_indexes = []\n",
    "for index, city in enumerate(total_cities):\n",
    "    if \"NY\" not in city:\n",
    "        text = city +\",NY\"\n",
    "    else:\n",
    "        text = city\n",
    "    try:\n",
    "        locations.append(google_encoder.geocode(text))\n",
    "        city_indexes.append(index)\n",
    "    except:\n",
    "        locations.append(nominatim_encoder.geocode(text))\n",
    "        city_indexes.append(index)"
   ]
  },
  {
   "cell_type": "code",
   "execution_count": 64,
   "metadata": {
    "collapsed": false
   },
   "outputs": [
    {
     "name": "stdout",
     "output_type": "stream",
     "text": [
      "COLLEGE POINT\n",
      "NEW YROK\n",
      "DOUGLASTON\n",
      "MASPETH\n",
      "NEW YORK, 10003\n",
      "SUITE 945\n",
      "137 VARICK STREET, 2ND FLOOR\n",
      "ELMHURST\n",
      "NEWYORK\n",
      "LONG ISLAND CITY\n",
      "6TH FLOOR, ROOM 6027W\n",
      "WHITETONE\n",
      "GLEN OAKS\n",
      "OAKLAND GARDENS\n",
      "OZONE PARK\n",
      "FLUSHING\n",
      "JAMAICA\n",
      "MIAMI\n",
      "55 WATER STREET\n",
      "CITY OF NEW YORK\n",
      "LONG ISLANDY CITY\n",
      "BRIARWOOD\n",
      "LONGISLAND CITY\n",
      "325 HUDSON STREET, 9TH FLOOR\n",
      "BRONX,NY\n",
      "BRONX.NEW YORK\n",
      "CHELSEA\n",
      "6TH FLOOR\n",
      "160 CONVENT AVENUE\n",
      "ROCHDALE VILLAGE\n",
      "MT. VERNON\n",
      "WOODSIDE\n",
      "GREAT NECK,\n",
      "NEW YORK, NY -\n",
      "REGO\n",
      "850 12TH AVENUE\n",
      "LAURELTON\n",
      "OAKLAND GARDEN\n",
      "EAST ELMHURST\n",
      "NEW YORK NY\n",
      "BELLEVUE\n",
      "43-34 32ND PLACE\n",
      "LONG ISLAND CITY, QUEENS\n",
      "GLENDALE\n",
      "KEW GARDENS\n",
      "WILLIAMSBURGH\n",
      "METRO NEW YORK\n",
      "RIVERDALE\n",
      "BOWLING GREEN\n",
      "SOUTH RICHMOND HILL\n",
      "FRESH MEADOWS\n",
      "ELMHRUST\n",
      "WOODMERE\n",
      "SUITE NO 1502\n",
      "JAMAICA, NY\n",
      "STATEN ISLAND\n",
      "MIDDLE VILLAGE\n",
      "LONG ISLAND CTY\n",
      "JACKSON HEIGHTS\n",
      "NEW ORK\n",
      "MOUNT VERNON\n",
      "1 COURT SQUARE\n",
      "FOREST HILLS\n",
      "NEW YOK\n",
      "THROGGS NECK\n",
      "CHICAGO\n",
      "MANHATTAN, NEW YORK\n",
      "SUITE 1802\n",
      "ST. ALBANS\n",
      "LIC\n",
      "RIDGEWOOD\n",
      "DOWNTOWN BROOKLYN\n",
      "FOREST HILLS QUEENS\n",
      "BOISE\n",
      "JAMIACA\n",
      "BRONX\n",
      "SUITE 514\n",
      "NEW YORK\n",
      "S RICHMOND HILL\n",
      "INWOOD\n",
      "QUEENS\n",
      "ASTORIA\n",
      "FLORAL PARK\n",
      "701 WEST 168TH STREET\n",
      "ELMONT\n",
      "HOWARD BEACH\n",
      "VALLEY STREAM\n",
      "CORONA\n",
      "NEW TORK\n",
      "NEW YOUR\n",
      "MASPATH\n",
      "NEW YORK CITY\n",
      "ELMHUSRT\n",
      "MANHATTAN\n",
      "13 W.100TH STREET, APT. 4B\n",
      "CEDARHURST\n",
      "3RD FLOOR\n",
      "THROGS NECK\n",
      "JOHNSON STREET\n",
      "OAKLAND\n",
      "MURRAY HILL\n",
      "BRONX,NEW YORK\n",
      "BELLEROSE\n",
      "WOODHAVEN\n",
      "UNION CITY\n",
      "BROOKLYN\n",
      "MANHATAN\n",
      "NEWYORK CITY\n",
      "L.I.C.\n",
      "JERSEY CITY\n",
      "NEW YORK, NEW YORK\n",
      "MEW YORK\n",
      "REGO PARK\n",
      "630 WEST 168TH STREET\n",
      "LONG ISLAND CITY,\n",
      "SUITE 804\n",
      "LONG IS CITY\n",
      "132 HARRISON PLACE\n",
      "SOUTH OZONE PARK\n",
      "EDISON\n",
      "650 WEST 168TH STREET\n",
      "FLUSHING, NY\n",
      "EAST SYRACUSE\n",
      "AMSTERDAM\n",
      "ITHACA\n",
      "LOCUST VALLEY\n",
      "NEW YORK,NEW YORK\n",
      "FAIRPORT\n",
      "NEW\n",
      "SOUTH HAMPTON\n",
      "WAINSCOTT\n",
      "BROOKLY\n",
      "BROOKLN\n",
      "FORT EDWARD\n",
      "DEERPARK\n",
      "TUXEDO\n",
      "GREENPORT\n",
      "ITHICA\n",
      "* 6. POSTAL CODE * PREVAIL\n",
      "SPENCER\n",
      "SNYDER\n",
      "BOSTON\n",
      "NIAGARA UNIVERSITY\n",
      "SMITHTOWN\n",
      "SAINT JAMES\n",
      "ADAMS CENTER\n",
      "OLD BETHPAGE\n",
      "RYE BROOK\n",
      "SOUTH BUFFALO\n",
      "BETHPAGE ,\n",
      "CHAMPLAIN\n",
      "NEW WINDSOW\n",
      "WHITESTONE\n",
      "FORREST HILLS\n",
      "THIRD FLOOR\n",
      "HYDE PARK\n",
      "FULTON\n",
      "227 EAST 56TH STREET\n",
      "BROOKLYN,\n",
      "ROCHESTER, N.Y.\n",
      "FARMINGDALE\n",
      "UNIONDALE\n",
      "MONTICELLO\n",
      "ROME\n",
      "MT.KISCO\n",
      "SCHENECTADYæ\n",
      "WEST CALDWELL\n",
      "GREEN ISLAND\n",
      "MIDTOWN MANHATTAN\n",
      "VAHALLA\n",
      "GREATNECK\n",
      "SOUTHOLD\n",
      "CUBA\n",
      "NEW YORK CITY,\n",
      "BALLSTON LAKE\n",
      "AMHERST\n",
      "SEAFORD\n",
      "FRESHMEADOWS\n",
      "BUILDING 12\n",
      "TERRYTOWN\n",
      "180\n"
     ]
    }
   ],
   "source": [
    "north_lat = 40.917577 \n",
    "south_lat = 40.477399 \n",
    "east_long = abs(-73.700272)\n",
    "west_long = abs(-74.259090)\n",
    "locations = [elem for elem in locations if elem]\n",
    "for index,location in enumerate(locations):\n",
    "    lat_check = False\n",
    "    long_check = False\n",
    "    if location.latitude < north_lat and location.latitude > south_lat:\n",
    "        lat_check = True\n",
    "    if abs(location.longitude) < west_long and abs(location.longitude) > east_long:\n",
    "        long_check = True\n",
    "    if lat_check and long_check:\n",
    "        city_index = city_indexes[index]\n",
    "        print(total_cities[city_index])"
   ]
  },
  {
   "cell_type": "markdown",
   "metadata": {},
   "source": [
    "From this list of 180 results - far smaller than the original lists length of 765, I googled or visually inspected each result.  If the result was a place I knew in New York City, I added it to the list.  If it didn't look familiar I googled it.  Those results that made it through this last test ended up in the list below, stored in a variable called `new_york_city_names`."
   ]
  },
  {
   "cell_type": "code",
   "execution_count": 3,
   "metadata": {
    "collapsed": false
   },
   "outputs": [
    {
     "data": {
      "text/plain": [
       "94"
      ]
     },
     "execution_count": 3,
     "metadata": {},
     "output_type": "execute_result"
    }
   ],
   "source": [
    "new_york_city_names = [\n",
    "    \"NEW YORK,\", \"BAYSIDE\", \"1 COURT SQUARE\",\n",
    "    \"160 FORT WASHINGTON AVENUE\", \"ASTORIA\",\n",
    "    \"LONG IS CITY\", \"RIDGEWOOD\", \"BROOKYLN\",\n",
    "    \"160 CONVENT AVENUE\", \"227 EAST 56TH STREET\",\n",
    "    \"SOUTH OZONE PARK\", \"BROOKLY\", \"LONG ISLAND CTY\",\n",
    "    \"DOWNTOWN BROOKLYN\", \"BRONX,NEW YORK\", \"5 TIMES SQUARE\",\n",
    "    \"MANHATTAN\", \"MANHATAN\", \"BROOKLYN,\", \"BROOKLN\",\n",
    "    \"MEW YORK\", \"BRONX\", \"132 HARRISON PLACE\",\n",
    "    \"LONGISLAND CITY\", \"NEW YORK\", \"MIDTOWN MANHATTAN\",\n",
    "    \"METRO NEW YORK\", \"NEW YOUR\", \"BROOKYN\",\n",
    "    \"NEW YORK, 10003\", \"BROOKLYN\", \"NEW TORK\",\n",
    "    \"650 WEST 168TH STREET\", \"325 HUDSON STREET, 9TH FLOOR\",\n",
    "    \"FORREST HILLS\", \"BRONX.NEW YORK\", \"CITY OF NEW YORK\",\n",
    "    \"JACKSON HEIGHTS\", \"FLUSHING\", \"THROGGS NECK\",\n",
    "    \"QUEENS VILLAGE\", \"NEW ORK\", \"JOHNSON STREET\",\n",
    "    \"ROCKAWAY PARK\", \"LONG ISLAND CITY, QUEENS\",\n",
    "    \"NEW YORK,NEW YORK\", \"MANHATTAN BEACH\",\n",
    "    \"NEW YORK, NEW YORK\", \"NEW YORK CITY\",\n",
    "    \"NEWYORK CITY\", \"S RICHMOND HILL\",\n",
    "    \"L.I.C.\", \"RICHMOND HILL\", \"55 WATER STREET\",\n",
    "    \"OZONE PARK\", \"LONG ISLANDY CITY\", \"JAMAICA\",\n",
    "    \"INWOOD\", \"SUNNYSIDE\", \"NEW YORK NY\",\n",
    "    \"CAMBRIA HEIGHTS\", \"NEW YORK CITY,\",\n",
    "    \"THROGS NECK\", \"137 VARICK STREET, 2ND FLOOR\",\n",
    "    \"#35620 OZONE PARK NY MSA\", \"JAMAICA, NY\",\n",
    "    \"LONG ISLAND CITY,\", \"NEW YOURK\", \"NY\",\n",
    "    \"NEWYORK\", \"YORKERS\", \"NEW YROK\",\n",
    "    \"LIC\", \"13 W.100TH STREET, APT. 4B\",\n",
    "    \"850 12TH AVENUE\", \"NEW YOK\",\n",
    "    \"701 WEST 168TH STREET\", \"FLUSHING, NY\",\n",
    "    \"630 WEST 168TH STREET\", \"FOREST HILLS\",\n",
    "    \"BOWLING GREEN\", \"NEW YORK, NY -\", \"LITTLE NECK\",\n",
    "    \"NEW YORK, NY\", \"43-34 32ND PLACE\",\n",
    "    \"LONG ISLAD CITY\", \"REGO PARK\",\n",
    "    \"MANHATTAN, NEW YORK\", \"BRONX,NY\",\n",
    "    \"LONG ISLAND CITY\", \"NYC\",\n",
    "    \"QUEENS\", \"YONKERS\", \"BRONX, NEW YORK\"\n",
    "]\n",
    "\n",
    "len(new_york_city_names)"
   ]
  },
  {
   "cell_type": "markdown",
   "metadata": {},
   "source": [
    "Next I segmented by city data by names I knew to be within new york city.  Anything not in the city was removed.  I visually checked to make sure the test worked by calling the first 5 entries."
   ]
  },
  {
   "cell_type": "code",
   "execution_count": 4,
   "metadata": {
    "collapsed": false
   },
   "outputs": [
    {
     "data": {
      "text/html": [
       "<div>\n",
       "<table border=\"1\" class=\"dataframe\">\n",
       "  <thead>\n",
       "    <tr style=\"text-align: right;\">\n",
       "      <th></th>\n",
       "      <th>lca_case_number</th>\n",
       "      <th>status</th>\n",
       "      <th>lca_case_submit</th>\n",
       "      <th>decision_date</th>\n",
       "      <th>visa_class</th>\n",
       "      <th>lca_case_employment_start_date</th>\n",
       "      <th>lca_case_employment_end_date</th>\n",
       "      <th>lca_case_employer_name</th>\n",
       "      <th>lca_case_employer_address</th>\n",
       "      <th>lca_case_employer_city</th>\n",
       "      <th>...</th>\n",
       "      <th>other_wage_source_1</th>\n",
       "      <th>yr_source_pub_1</th>\n",
       "      <th>lca_case_workloc2_city</th>\n",
       "      <th>lca_case_workloc2_state</th>\n",
       "      <th>pw_2</th>\n",
       "      <th>pw_unit_2</th>\n",
       "      <th>pw_source_2</th>\n",
       "      <th>other_wage_source_2</th>\n",
       "      <th>yr_source_pub_2</th>\n",
       "      <th>lca_case_naics_code</th>\n",
       "    </tr>\n",
       "  </thead>\n",
       "  <tbody>\n",
       "    <tr>\n",
       "      <th>23</th>\n",
       "      <td>I-200-09259-849209</td>\n",
       "      <td>CERTIFIED</td>\n",
       "      <td>2014-03-12</td>\n",
       "      <td>2014-03-18</td>\n",
       "      <td>H-1B</td>\n",
       "      <td>2014-09-10</td>\n",
       "      <td>2017-09-10</td>\n",
       "      <td>FRS AMERICA, INC.</td>\n",
       "      <td>2700 LAKE COOK ROAD</td>\n",
       "      <td>RIVERWOODS</td>\n",
       "      <td>...</td>\n",
       "      <td>OFLC ONLINE DATA CENTER</td>\n",
       "      <td>2013.0</td>\n",
       "      <td>NEW YORK</td>\n",
       "      <td>NY</td>\n",
       "      <td>129418.0</td>\n",
       "      <td>Year</td>\n",
       "      <td>OES</td>\n",
       "      <td>OFLC ONLINE DATA CENTER</td>\n",
       "      <td>OFLC ONLINE DATA CENTER</td>\n",
       "      <td>511210.0</td>\n",
       "    </tr>\n",
       "    <tr>\n",
       "      <th>36</th>\n",
       "      <td>I-200-09300-229787</td>\n",
       "      <td>CERTIFIED-WITHDRAWN</td>\n",
       "      <td>2013-09-11</td>\n",
       "      <td>2014-04-10</td>\n",
       "      <td>H-1B</td>\n",
       "      <td>2014-02-28</td>\n",
       "      <td>2015-03-31</td>\n",
       "      <td>FITCH RATINGS</td>\n",
       "      <td>ONE STATE STREET PLAZA</td>\n",
       "      <td>NEW YORK</td>\n",
       "      <td>...</td>\n",
       "      <td>OFLC ONLINE DATA CENTER</td>\n",
       "      <td>2013.0</td>\n",
       "      <td>NaN</td>\n",
       "      <td>NaN</td>\n",
       "      <td>NaN</td>\n",
       "      <td>NaN</td>\n",
       "      <td>NaN</td>\n",
       "      <td>NaN</td>\n",
       "      <td>NaN</td>\n",
       "      <td>523930.0</td>\n",
       "    </tr>\n",
       "    <tr>\n",
       "      <th>43</th>\n",
       "      <td>I-200-09321-521235</td>\n",
       "      <td>CERTIFIED-WITHDRAWN</td>\n",
       "      <td>2012-05-02</td>\n",
       "      <td>2014-08-21</td>\n",
       "      <td>H-1B</td>\n",
       "      <td>2012-05-11</td>\n",
       "      <td>2015-05-10</td>\n",
       "      <td>BARCLAYS CAPITAL INC.</td>\n",
       "      <td>745 SEVENTH AVENUE</td>\n",
       "      <td>NEW YORK</td>\n",
       "      <td>...</td>\n",
       "      <td>OFLC ONLINE DATA CENTER</td>\n",
       "      <td>2011.0</td>\n",
       "      <td>NaN</td>\n",
       "      <td>NaN</td>\n",
       "      <td>NaN</td>\n",
       "      <td>NaN</td>\n",
       "      <td>NaN</td>\n",
       "      <td>NaN</td>\n",
       "      <td>NaN</td>\n",
       "      <td>523110.0</td>\n",
       "    </tr>\n",
       "    <tr>\n",
       "      <th>62</th>\n",
       "      <td>I-200-10022-756568</td>\n",
       "      <td>CERTIFIED</td>\n",
       "      <td>2013-10-24</td>\n",
       "      <td>2013-11-01</td>\n",
       "      <td>H-1B</td>\n",
       "      <td>2013-10-24</td>\n",
       "      <td>2016-10-22</td>\n",
       "      <td>BLACKROCK INVESTMENT MANAGEMENT, LLC</td>\n",
       "      <td>40 EAST 52ND STREET</td>\n",
       "      <td>NEW YORK</td>\n",
       "      <td>...</td>\n",
       "      <td>OFLC ONLINE DATA CENTER</td>\n",
       "      <td>2013.0</td>\n",
       "      <td>NaN</td>\n",
       "      <td>NaN</td>\n",
       "      <td>NaN</td>\n",
       "      <td>NaN</td>\n",
       "      <td>NaN</td>\n",
       "      <td>NaN</td>\n",
       "      <td>NaN</td>\n",
       "      <td>523920.0</td>\n",
       "    </tr>\n",
       "    <tr>\n",
       "      <th>98</th>\n",
       "      <td>I-200-10106-798993</td>\n",
       "      <td>CERTIFIED</td>\n",
       "      <td>2014-05-20</td>\n",
       "      <td>2014-05-27</td>\n",
       "      <td>H-1B</td>\n",
       "      <td>2014-10-01</td>\n",
       "      <td>2017-09-30</td>\n",
       "      <td>F.O. USA, INC.</td>\n",
       "      <td>410 COLUMBUS AVENUE</td>\n",
       "      <td>NEW YORK</td>\n",
       "      <td>...</td>\n",
       "      <td>OFLC ONLINE DATA CENTER</td>\n",
       "      <td>2014.0</td>\n",
       "      <td>NaN</td>\n",
       "      <td>NaN</td>\n",
       "      <td>NaN</td>\n",
       "      <td>NaN</td>\n",
       "      <td>NaN</td>\n",
       "      <td>NaN</td>\n",
       "      <td>NaN</td>\n",
       "      <td>448130.0</td>\n",
       "    </tr>\n",
       "  </tbody>\n",
       "</table>\n",
       "<p>5 rows × 35 columns</p>\n",
       "</div>"
      ],
      "text/plain": [
       "       lca_case_number               status lca_case_submit decision_date  \\\n",
       "23  I-200-09259-849209            CERTIFIED      2014-03-12    2014-03-18   \n",
       "36  I-200-09300-229787  CERTIFIED-WITHDRAWN      2013-09-11    2014-04-10   \n",
       "43  I-200-09321-521235  CERTIFIED-WITHDRAWN      2012-05-02    2014-08-21   \n",
       "62  I-200-10022-756568            CERTIFIED      2013-10-24    2013-11-01   \n",
       "98  I-200-10106-798993            CERTIFIED      2014-05-20    2014-05-27   \n",
       "\n",
       "   visa_class lca_case_employment_start_date lca_case_employment_end_date  \\\n",
       "23       H-1B                     2014-09-10                   2017-09-10   \n",
       "36       H-1B                     2014-02-28                   2015-03-31   \n",
       "43       H-1B                     2012-05-11                   2015-05-10   \n",
       "62       H-1B                     2013-10-24                   2016-10-22   \n",
       "98       H-1B                     2014-10-01                   2017-09-30   \n",
       "\n",
       "                  lca_case_employer_name lca_case_employer_address  \\\n",
       "23                     FRS AMERICA, INC.       2700 LAKE COOK ROAD   \n",
       "36                         FITCH RATINGS    ONE STATE STREET PLAZA   \n",
       "43                 BARCLAYS CAPITAL INC.        745 SEVENTH AVENUE   \n",
       "62  BLACKROCK INVESTMENT MANAGEMENT, LLC       40 EAST 52ND STREET   \n",
       "98                        F.O. USA, INC.       410 COLUMBUS AVENUE   \n",
       "\n",
       "   lca_case_employer_city         ...               other_wage_source_1  \\\n",
       "23             RIVERWOODS         ...           OFLC ONLINE DATA CENTER   \n",
       "36               NEW YORK         ...           OFLC ONLINE DATA CENTER   \n",
       "43               NEW YORK         ...           OFLC ONLINE DATA CENTER   \n",
       "62               NEW YORK         ...           OFLC ONLINE DATA CENTER   \n",
       "98               NEW YORK         ...           OFLC ONLINE DATA CENTER   \n",
       "\n",
       "   yr_source_pub_1 lca_case_workloc2_city lca_case_workloc2_state      pw_2  \\\n",
       "23          2013.0               NEW YORK                      NY  129418.0   \n",
       "36          2013.0                    NaN                     NaN       NaN   \n",
       "43          2011.0                    NaN                     NaN       NaN   \n",
       "62          2013.0                    NaN                     NaN       NaN   \n",
       "98          2014.0                    NaN                     NaN       NaN   \n",
       "\n",
       "    pw_unit_2  pw_source_2      other_wage_source_2          yr_source_pub_2  \\\n",
       "23       Year          OES  OFLC ONLINE DATA CENTER  OFLC ONLINE DATA CENTER   \n",
       "36        NaN          NaN                      NaN                      NaN   \n",
       "43        NaN          NaN                      NaN                      NaN   \n",
       "62        NaN          NaN                      NaN                      NaN   \n",
       "98        NaN          NaN                      NaN                      NaN   \n",
       "\n",
       "    lca_case_naics_code  \n",
       "23             511210.0  \n",
       "36             523930.0  \n",
       "43             523110.0  \n",
       "62             523920.0  \n",
       "98             448130.0  \n",
       "\n",
       "[5 rows x 35 columns]"
      ]
     },
     "execution_count": 4,
     "metadata": {},
     "output_type": "execute_result"
    }
   ],
   "source": [
    "def segment_to_nyc(x):\n",
    "    if x in new_york_city_names:\n",
    "        return True\n",
    "    else:\n",
    "        return False\n",
    "\n",
    "nyc = df[df[\"lca_case_workloc1_city\"].apply(segment_to_nyc)]\n",
    "nyc.head()"
   ]
  },
  {
   "cell_type": "markdown",
   "metadata": {},
   "source": [
    "The next thing to do was look into employer names.  Knowing from the location data, that this data set is quiet messy I tried to come up with a scheme for canonicalizing the names of employers.  In order to do this efficiently I had to do a bit of messing around.  The first thing to note is the companies sometimes have different names, but refer to the same \"actual\" company.  I'm being a bit hand wavy here, but a good example of what I'm talking about presents itself with morgan stanley.  If you run the below code and then access the `employer_counts` dict like so:\n",
    "\n",
    "```\n",
    ">>> for elem in employer_counts:\n",
    "...     if \"MORGAN\" in elem:\n",
    "...             print(elem)\n",
    "... \n",
    "MORGAN STANLEY SMITH BARNEY\n",
    "MORGAN STANLEY BANK NA\n",
    "MORGAN STANLEY CAPITAL GROUP\n",
    "MORGAN STANLEY FUND SERVICES\n",
    "MORGAN STANLEY INVESTMENT MANAGEMENT\n",
    "MORGAN LEWIS BOCKIUS\n",
    "MORGAN STANLEY BANK\n",
    "MORGANE LE FAY\n",
    "MORGANS HOTEL GROUP MANAGEMENT\n",
    "```\n",
    "\n",
    "We see that there are at least 4 businesses that are actually Morgan Stanley, as a lay person would think of it.  So it's probably best to be able to group by this natural categorization.\n",
    "\n",
    "Digging in a bit to the code - one of the things you'll notice about `clean_split` - my preprocessing function, I remove some obvious words that are likely to appear quiet a bit.  Since these are company names, they add little value to the canonicalization process, therefore they are removed.  The next thing to note is my use of named entity recognition from `spacy`.  There entity tagger allows me to remove useless common words.  If the label \"ORG\" is attached to the entity, we simply include that in names to check.  \n",
    "\n",
    "Stepping back a bit, to see what the overall goal of the code is - the high level goal is simple, determine which businesses occur multiple times, under slightly different names.  If we knew all the semantic organizations, like we know MORGAN STANLEY then we could simply check for that sub-string in all the other business names.  Unfortunately we don't, so we simply try to mimic that functionality generally, via these `ORG` entities we pulled out earlier.  Looping over each word, checking for each substring we believe to be an `ORG`, we are able to approximate what all the unique employer names are.  These are stored in the keys of `employer_counts`.  "
   ]
  },
  {
   "cell_type": "code",
   "execution_count": 144,
   "metadata": {
    "collapsed": false
   },
   "outputs": [
    {
     "name": "stdout",
     "output_type": "stream",
     "text": [
      "('CA', 1357)\n"
     ]
    },
    {
     "data": {
      "text/plain": [
       "3256"
      ]
     },
     "execution_count": 144,
     "metadata": {},
     "output_type": "execute_result"
    }
   ],
   "source": [
    "def clean_split(employer):\n",
    "    translations = [employer.maketrans(elem,\" \") for elem in string.punctuation]\n",
    "    stop_words = [\"INC\", \"LLC\", \"&\", \"PC\", \"LP\", \"LLP\", \"CO\", \"LTD\", \"CORP\"]\n",
    "    for translation in translations:\n",
    "        employer = employer.translate(translation)\n",
    "    employer = ''.join(employer)\n",
    "    return [elem for elem in employer.split() if elem not in stop_words]\n",
    "    \n",
    "nlp = spacy.load('en')\n",
    "nyc = df[df[\"lca_case_workloc1_city\"].apply(segment_to_nyc)]\n",
    "employers = list(nyc[\"lca_case_employer_name\"].unique())\n",
    "employer_counts = {}\n",
    "for index, employer in enumerate(employers):\n",
    "    other_employers = employers[:index] + employers[index+1:]\n",
    "    names = clean_split(employer)\n",
    "    names = [name for name in names if len(name) > 1]\n",
    "    names = [name for name in names if not name.isdigit()]\n",
    "    doc = nlp(' '.join(names))\n",
    "    names = [ent.text for ent in doc.ents if ent.label_ == \"ORG\"]\n",
    "    tmp = {}.fromkeys(names, 0)\n",
    "    for name in names:\n",
    "        tmp[name] += sum([employer.count(name) for employer in other_employers])\n",
    "    employer_counts.update(tmp)\n",
    "\n",
    "print(max(employer_counts.items(), key=operator.itemgetter(1)))\n",
    "\n",
    "counter = 0\n",
    "for employer in employer_counts:\n",
    "    if employer_counts[employer] < 100:\n",
    "        counter += 1\n",
    "counter"
   ]
  },
  {
   "cell_type": "markdown",
   "metadata": {},
   "source": [
    "Notice that some employer names occur quiet frequently - for instance, the most common is \"CA\".  Clearly \"CA\" is not a company name.  So we look for employers with counts less than 100 to try to thin out any obvious errors:"
   ]
  },
  {
   "cell_type": "code",
   "execution_count": 161,
   "metadata": {
    "collapsed": false
   },
   "outputs": [
    {
     "name": "stdout",
     "output_type": "stream",
     "text": [
      "Uniquely appearing companies 302\n",
      "Companies appearing more than once 2958\n"
     ]
    }
   ],
   "source": [
    "duplicates = []\n",
    "uniques = []\n",
    "for employer in employer_counts:\n",
    "    if employer_counts[employer] == 1:\n",
    "        uniques.append(employer)\n",
    "    else:\n",
    "        duplicates.append(employer)\n",
    "print(\"Uniquely appearing companies\",len(uniques))\n",
    "print(\"Companies appearing more than once\",len(duplicates))"
   ]
  },
  {
   "cell_type": "markdown",
   "metadata": {},
   "source": [
    "From here we can see which companies appear more than once.  So all we need to do now is work over the duplicates, creating canonical names for each.  Then we can map the duplicate names to their canonical names."
   ]
  },
  {
   "cell_type": "code",
   "execution_count": 185,
   "metadata": {
    "collapsed": false
   },
   "outputs": [
    {
     "data": {
      "text/plain": [
       "1081"
      ]
     },
     "execution_count": 185,
     "metadata": {},
     "output_type": "execute_result"
    }
   ],
   "source": [
    "def compare_companies(company_one, company_two):\n",
    "    stop_words = [\"INC\", \"LLC\", \"&\", \"PC\", \"LP\", \"LLP\", \"CO\", \"LTD\", \"CORP\",\n",
    "                \"MANAGEMENT\", \"CAPITAL\", \"SERVICES\", \"BANK\", \"PLC\", \"FINANCIAL\"\n",
    "                 \"NEW\", \"YORK\", \"DEPARTMENT\", \"UNIVERSITY\"]\n",
    "    company_one_words = [word for word in company_one.split() if word not in stop_words]\n",
    "    company_two_words = [word for word in company_two.split() if word not in stop_words]\n",
    "    common_words = 0\n",
    "    for c1_word in company_one_words:\n",
    "        for c2_word in company_two_words:\n",
    "            if c1_word == c2_word:\n",
    "                common_words += 1\n",
    "    percent_common_words = common_words / len(company_two.split())\n",
    "    if percent_common_words > 0.4:\n",
    "        return True\n",
    "    else:\n",
    "        return False\n",
    "    \n",
    "mapping = {}\n",
    "for index, company in enumerate(duplicates):\n",
    "    if company not in list(mapping.keys()):\n",
    "        other_companies = duplicates[:index] + duplicates[index+1:]\n",
    "        for other_company in other_companies:\n",
    "            if compare_companies(company, other_company):\n",
    "                mapping[other_company] = company\n",
    "len(mapping)"
   ]
  },
  {
   "cell_type": "code",
   "execution_count": 184,
   "metadata": {
    "collapsed": false
   },
   "outputs": [
    {
     "name": "stdout",
     "output_type": "stream",
     "text": [
      "BARCLAYS SERVICES == BARCLAYS CAPITAL ENERGY\n",
      "EURO RSCG NEW YORK == THE NEW YORK CITY DEPARTMENT OF HEALTH AND MENTAL\n",
      "INTERNATIONAL HOUSE NEW YORK == THE NEW YORK CITY DEPARTMENT OF HEALTH AND MENTAL\n",
      "THE BANK OF NEW YORK MELLON == THE NEW YORK CITY DEPARTMENT OF HEALTH AND MENTAL\n",
      "DEUTSCHE BANK NEW YORK == THE NEW YORK CITY DEPARTMENT OF HEALTH AND MENTAL\n",
      "NEW YORK UNIVERSITY HOSPITALS CENTER == NEW YORK UNIVERSITY SCHOOL OF MEDICINE\n",
      "NEW == NEW METRO CONSTRUCTION\n",
      "NEW YORK TECHNOLOGY PARTNERS == THE NEW YORK CITY DEPARTMENT OF HEALTH AND MENTAL\n",
      "NEW YORK UNIVERSITY == THE NEW YORK CITY DEPARTMENT OF HEALTH AND MENTAL\n",
      "YESHIVA UNIVERSITY == YESHIVA\n",
      "TARDIS GROUP NEW YORK == THE NEW YORK CITY DEPARTMENT OF HEALTH AND MENTAL\n",
      "THE CITY UNIVERSITY OF == THE NEW YORK CITY DEPARTMENT OF HEALTH AND MENTAL\n",
      "NEW YORK FOUNDATION == THE NEW YORK CITY DEPARTMENT OF HEALTH AND MENTAL\n",
      "FORDHAM UNIVERSITY == THE AMERICAN UNIVERSITY IN CAIRO\n",
      "NEW YORK INSTITUTE OF ENGLISH AND BUSINESS == CHUNG TE INSTITUTE OF RELIGIONS AND\n",
      "NEW YORK SOCIETY == THE NEW YORK CITY DEPARTMENT OF HEALTH AND MENTAL\n",
      "NEW YORK == NEW METRO CONSTRUCTION\n",
      "PACE UNIVERSITY == THE AMERICAN UNIVERSITY IN CAIRO\n",
      "POLYTECHNIC INSTITUTE OF NEW == RENSSELAER POLYTECHNIC INSTITUTE\n",
      "JADE ASSOCIATES NEW YORK == THE NEW YORK CITY DEPARTMENT OF HEALTH AND MENTAL\n",
      "THE BRITISH INTERNATIONAL SCHOOL OF NEW YORK == THE NEW YORK CITY DEPARTMENT OF HEALTH AND MENTAL\n",
      "NEW YORK PREPARATORY SCHOOL == THE NEW YORK CITY DEPARTMENT OF HEALTH AND MENTAL\n",
      "NEW YORK SERVICE CENTER == THE NEW YORK CITY DEPARTMENT OF HEALTH AND MENTAL\n",
      "BALA NEW YORK == THE NEW YORK CITY DEPARTMENT OF HEALTH AND MENTAL\n",
      "HBK NEW YORK == THE NEW YORK CITY DEPARTMENT OF HEALTH AND MENTAL\n",
      "ENTERPRISE NETWORK OF NEW == THE NEW YORK CITY DEPARTMENT OF HEALTH AND MENTAL\n",
      "THE NEW YORK OBSERVER == THE NEW YORK CITY DEPARTMENT OF HEALTH AND MENTAL\n",
      "LAIRD PARTNERS NEW YORK == THE NEW YORK CITY DEPARTMENT OF HEALTH AND MENTAL\n",
      "THE NEW YORK HOSPITAL MEDICAL CENTER OF == THE NEW YORK CITY DEPARTMENT OF HEALTH AND MENTAL\n",
      "NEW YORK INSTITUTE OF TECHNOLOGY == THE NEW YORK CITY DEPARTMENT OF HEALTH AND MENTAL\n",
      "THE NEW YORK ACADEMY OF MEDICINE == THE NEW YORK CITY DEPARTMENT OF HEALTH AND MENTAL\n",
      "MONTESSORI SCHOOL OF MANHATTAN == NYU POLYTECHNIC SCHOOL OF ENGINEERING\n",
      "COLUMBIA PARTNERS NEW YORK == THE NEW YORK CITY DEPARTMENT OF HEALTH AND MENTAL\n",
      "THE NEW YORK == THE NEW YORK CITY DEPARTMENT OF HEALTH AND MENTAL\n",
      "TIGER PARTY NEW YORK == THE NEW YORK CITY DEPARTMENT OF HEALTH AND MENTAL\n",
      "SEI NEW == NEW METRO CONSTRUCTION\n",
      "AFTRA HEALTH FUND == NATIONAL BENEFIT FUND FOR HEALTH AND\n",
      "ACUMEN FUND == HASTINGS FUND MANAGEMENT\n",
      "CHILDREN HEALTH FUND == NATIONAL BENEFIT FUND FOR HEALTH AND\n",
      "IMS HEALTH == MTS HEALTH PARTNERS\n",
      "NATIONAL FINANCIAL == NATIONAL FOOTBALL LEAGUE\n",
      "DOE FUND == HASTINGS FUND MANAGEMENT\n",
      "PRESIDIO INTERNATIONAL == DEVELOPMENT DIMENSIONS INTERNATIONAL\n",
      "ASSET INTERNATIONAL == DEVELOPMENT DIMENSIONS INTERNATIONAL\n",
      "BUSINESS INTERNATIONAL == DEVELOPMENT DIMENSIONS INTERNATIONAL\n",
      "VIACOM INTERNATIONAL == DEVELOPMENT DIMENSIONS INTERNATIONAL\n",
      "KOPY INTERNATIONAL == DEVELOPMENT DIMENSIONS INTERNATIONAL\n",
      "PARTER INTERNATIONAL == DEVELOPMENT DIMENSIONS INTERNATIONAL\n",
      "BRADLEE INTERNATIONAL == DEVELOPMENT DIMENSIONS INTERNATIONAL\n",
      "AVENUES INTERNATIONAL == DEVELOPMENT DIMENSIONS INTERNATIONAL\n",
      "APA INTERNATIONAL == DEVELOPMENT DIMENSIONS INTERNATIONAL\n",
      "SECRETARIAT INTERNATIONAL == DEVELOPMENT DIMENSIONS INTERNATIONAL\n",
      "CRA INTERNATIONAL == DEVELOPMENT DIMENSIONS INTERNATIONAL\n",
      "GLOBEX INTERNATIONAL == DEVELOPMENT DIMENSIONS INTERNATIONAL\n",
      "TREASURES INTERNATIONAL == DEVELOPMENT DIMENSIONS INTERNATIONAL\n",
      "LIN INTERNATIONAL == DEVELOPMENT DIMENSIONS INTERNATIONAL\n",
      "RAPAPORT INTERNATIONAL == DEVELOPMENT DIMENSIONS INTERNATIONAL\n",
      "KATO INTERNATIONAL == DEVELOPMENT DIMENSIONS INTERNATIONAL\n",
      "PSI INTERNATIONAL == DEVELOPMENT DIMENSIONS INTERNATIONAL\n",
      "BCS INTERNATIONAL == DEVELOPMENT DIMENSIONS INTERNATIONAL\n",
      "BMT INTERNATIONAL == DEVELOPMENT DIMENSIONS INTERNATIONAL\n",
      "DISCO INTERNATIONAL == DEVELOPMENT DIMENSIONS INTERNATIONAL\n",
      "ORANGE INTERNATIONAL == DEVELOPMENT DIMENSIONS INTERNATIONAL\n",
      "HARBOUR INTERNATIONAL == DEVELOPMENT DIMENSIONS INTERNATIONAL\n",
      "PAX INTERNATIONAL == DEVELOPMENT DIMENSIONS INTERNATIONAL\n",
      "JACOBS == STEPHEN JACOBS GROUP\n",
      "REGAL INTERNATIONAL == DEVELOPMENT DIMENSIONS INTERNATIONAL\n",
      "ZERO INTERNATIONAL == DEVELOPMENT DIMENSIONS INTERNATIONAL\n",
      "HILL INTERNATIONAL == DEVELOPMENT DIMENSIONS INTERNATIONAL\n",
      "SKF INTERNATIONAL == DEVELOPMENT DIMENSIONS INTERNATIONAL\n",
      "CHATEAU INTERNATIONAL == DEVELOPMENT DIMENSIONS INTERNATIONAL\n",
      "AZURE INTERNATIONAL == DEVELOPMENT DIMENSIONS INTERNATIONAL\n",
      "SOVEREIGN INTERNATIONAL == DEVELOPMENT DIMENSIONS INTERNATIONAL\n",
      "BUNGE GLOBAL MARKETS == CITIGROUP GLOBAL MARKETS\n",
      "BBC GLOBAL == GENERAL BOARD OF GLOBAL MINISTRIES\n",
      "CTS GLOBAL == GENERAL BOARD OF GLOBAL MINISTRIES\n",
      "CITIGROUP == CITIGROUP GLOBAL MARKETS\n",
      "CPT GLOBAL == GENERAL BOARD OF GLOBAL MINISTRIES\n",
      "CITIBANK GLOBAL MARKETS == CITIGROUP GLOBAL MARKETS\n",
      "ADAP TV == CUNY TV\n",
      "CLEARSTREAM TV == CUNY TV\n",
      "UBS SECURITIES == LORD SECURITIES CORPORATION\n",
      "CREDIT SUISSE ASSET MANAGEMENT == CREDIT SUISSE SECURITIES USA\n",
      "CREDIT SUISSE AG == CREDIT SUISSE SECURITIES USA\n",
      "MITSUBISHI UFJ SECURITIES USA == CREDIT SUISSE SECURITIES USA\n",
      "GUGGENHEIM SECURITIES == LORD SECURITIES CORPORATION\n",
      "HSBC SECURITIES USA == HSBC GLOBAL ASSET MANAGEMENT USA\n",
      "XP SECURITIES == LORD SECURITIES CORPORATION\n",
      "WSP USA == CENTRE USA HOLDING\n",
      "GTS SECURITIES == LORD SECURITIES CORPORATION\n",
      "SUNRISE SECURITIES == LORD SECURITIES CORPORATION\n",
      "OMD USA == CENTRE USA HOLDING\n",
      "GFI SECURITIES == LORD SECURITIES CORPORATION\n",
      "CES USA == CENTRE USA HOLDING\n",
      "CREDIT SUISSE ADMINISTRATION SERVICES USA == CREDIT SUISSE SECURITIES USA\n",
      "ROCKWELL SECURITIES == LORD SECURITIES CORPORATION\n",
      "MSS USA == CENTRE USA HOLDING\n",
      "BTS USA == CENTRE USA HOLDING\n",
      "CREDIT AGRICOLE SECURITIES USA == CREDIT SUISSE SECURITIES USA\n",
      "CITIC SECURITIES INTERNATIONAL USA == CHINA CITIC BANK INTERNATIONAL NY BRANCH\n",
      "BVM USA == CENTRE USA HOLDING\n",
      "EDM USA == CENTRE USA HOLDING\n",
      "OSBORNE USA == CENTRE USA HOLDING\n",
      "VOSS USA == CENTRE USA HOLDING\n",
      "VFG USA == CENTRE USA HOLDING\n",
      "ENB USA == CENTRE USA HOLDING\n",
      "OHL USA == CENTRE USA HOLDING\n",
      "MIZUHO SECURITIES USA == MIZUHO BANK USA\n",
      "RMC USA == CENTRE USA HOLDING\n",
      "CITICORP CREDIT SERVICES USA == CREDIT SUISSE SECURITIES USA\n",
      "ARCADIA SECURITIES == LORD SECURITIES CORPORATION\n",
      "NORTHWOOD SECURITIES == LORD SECURITIES CORPORATION\n",
      "ROSENBLATT SECURITIES == LORD SECURITIES CORPORATION\n",
      "OBERON SECURITIES == LORD SECURITIES CORPORATION\n",
      "GFT USA == CENTRE USA HOLDING\n",
      "CIMB SECURITIES USA == CREDIT SUISSE SECURITIES USA\n",
      "AESOP USA == CENTRE USA HOLDING\n",
      "GAM USA == CENTRE USA HOLDING\n",
      "ANZ SECURITIES == LORD SECURITIES CORPORATION\n",
      "METLIFE GROUP == ART CAPITAL GROUP\n",
      "CLARITY SOLUTIONS GROUP == THE UNITED SOLUTIONS GROUP\n",
      "UNITED SOFTWARE GROUP == UNITED SOFTWARE ASSOCIATES\n",
      "DC GROUP == ART CAPITAL GROUP\n",
      "TIGRIS GROUP == ART CAPITAL GROUP\n",
      "THE MILL GROUP == THE WICKS GROUP OF COMPANIES III\n",
      "THE BLACKSTONE GROUP == THE WICKS GROUP OF COMPANIES III\n",
      "THE ATHENE GROUP == THE WICKS GROUP OF COMPANIES III\n",
      "ABYSS GROUP == ART CAPITAL GROUP\n",
      "THE SIEGFRIED GROUP == THE WICKS GROUP OF COMPANIES III\n",
      "CONNOR GROUP == ART CAPITAL GROUP\n",
      "THE CJS SOLUTIONS GROUP == THE WICKS GROUP OF COMPANIES III\n",
      "THE BOSTON GROUP == THE WICKS GROUP OF COMPANIES III\n",
      "ASAP SOLUTIONS GROUP == THE UNITED SOLUTIONS GROUP\n",
      "THE BESSEMER GROUP INCORPORATED == THE WICKS GROUP OF COMPANIES III\n",
      "THE KLEIN GROUP == THE WICKS GROUP OF COMPANIES III\n",
      "TONIC GROUP == ART CAPITAL GROUP\n",
      "YOUNG RUBICAM GROUP THE BRAVO GROUP == THE WICKS GROUP OF COMPANIES III\n",
      "ALTAVISTA GROUP == ART CAPITAL GROUP\n",
      "THE SEAPORT GROUP == THE WICKS GROUP OF COMPANIES III\n",
      "THE WEISSCOMM GROUP == THE WICKS GROUP OF COMPANIES III\n",
      "INTERNATIONAL SOLUTIONS GROUP == AMERICAN INTERNATIONAL GROUP\n",
      "THE BLIND == THE FORUM CORPORATION PROVIDENCE CORPORATE DEVELO\n",
      "THE APPAREL GROUP == THE WICKS GROUP OF COMPANIES III\n",
      "THE REPTON GROUP == THE WICKS GROUP OF COMPANIES III\n",
      "THE JONES GROUP == THE WICKS GROUP OF COMPANIES III\n",
      "THE VAS GROUP == THE WICKS GROUP OF COMPANIES III\n",
      "THE DINEX GROUP == THE WICKS GROUP OF COMPANIES III\n",
      "THE PIACENTE GROUP == THE WICKS GROUP OF COMPANIES III\n",
      "THE HACKETT GROUP == THE WICKS GROUP OF COMPANIES III\n",
      "THE NORDLINGER GROUP == THE WICKS GROUP OF COMPANIES III\n",
      "THE FRACTAL GROUP == THE WICKS GROUP OF COMPANIES III\n",
      "THE UN == THE FORUM CORPORATION PROVIDENCE CORPORATE DEVELO\n",
      "NCC GROUP == ART CAPITAL GROUP\n",
      "VE SOLUTIONS GROUP == THE UNITED SOLUTIONS GROUP\n",
      "THE ROYAL PROMOTION GROUP == THE WICKS GROUP OF COMPANIES III\n",
      "THE FUTURO MEDIA GROUP == THE WICKS GROUP OF COMPANIES III\n",
      "THE FLOREZ GROUP == THE WICKS GROUP OF COMPANIES III\n",
      "VENDOME GROUP == ART CAPITAL GROUP\n",
      "THE PROCTER GROUP == THE WICKS GROUP OF COMPANIES III\n",
      "THE WOOSTER GROUP == THE WICKS GROUP OF COMPANIES III\n",
      "HARBINGER GROUP == ART CAPITAL GROUP\n",
      "THE NPD GROUP == THE WICKS GROUP OF COMPANIES III\n",
      "CORPORATE SOLUTIONS GROUP == THE UNITED SOLUTIONS GROUP\n",
      "THE RAINE GROUP == THE WICKS GROUP OF COMPANIES III\n",
      "THE BRIXTON GROUP == THE WICKS GROUP OF COMPANIES III\n",
      "COMPASS GROUP == ART CAPITAL GROUP\n",
      "THE OGILVY GROUP == THE WICKS GROUP OF COMPANIES III\n",
      "THE GOTHAM GROUP == THE WICKS GROUP OF COMPANIES III\n",
      "THE ATRIUM TRADING GROUP == THE WICKS GROUP OF COMPANIES III\n",
      "THE BRIDGESPAN GROUP == THE WICKS GROUP OF COMPANIES III\n",
      "THE SUPPORT GROUP == THE WICKS GROUP OF COMPANIES III\n",
      "THE DOCUMENTARY GROUP == THE WICKS GROUP OF COMPANIES III\n",
      "THE LIGHTING DESIGN GROUP == THE WICKS GROUP OF COMPANIES III\n",
      "MEAGHER GROUP == ART CAPITAL GROUP\n",
      "THE CHARLES GROUP NYC == THE WICKS GROUP OF COMPANIES III\n",
      "THE HENSON GROUP == THE WICKS GROUP OF COMPANIES III\n",
      "THE DEDHAM GROUP == THE WICKS GROUP OF COMPANIES III\n",
      "PARALLAX CENTER == BROOKLYN AUTISM CENTER ACADEMY\n",
      "BRONX CENTER FOR == AMERICAN REGIONAL CENTER FOR ENTREPRENEURS\n",
      "MINKWON CENTER FOR COMMUNITY == THE JEWISH COMMUNITY CENTER IN MANHATTAN\n",
      "INTERFAITH MEDICAL CENTER == LINCOLN MEDICAL MENTAL HEALTH CENTER\n",
      "WYCKOFF HEIGHTS MEDICAL CENTER == LINCOLN MEDICAL MENTAL HEALTH CENTER\n",
      "MAIMONIDES MEDICAL CENTER == LINCOLN MEDICAL MENTAL HEALTH CENTER\n",
      "LUTHERAN MEDICAL CENTER == LUTHERAN AUGUSTANA CENTER\n",
      "RUTLAND MEDICAL == AMERICAN MEDICAL ALERT\n",
      "AMERICAN MEDICAL == AMERICAN EAGLE OUTFITTER\n",
      "JAMAICA HOSPITAL MEDICAL CENTER == LINCOLN MEDICAL MENTAL HEALTH CENTER\n",
      "SKYLINE MEDICAL == AMERICAN MEDICAL ALERT\n",
      "KINGSBROOK JEWISH MEDICAL CENTER == LINCOLN MEDICAL MENTAL HEALTH CENTER\n",
      "NYCHHC JACOBI MEDICAL CENTER == LINCOLN MEDICAL MENTAL HEALTH CENTER\n",
      "MONETEFIORE MEDICAL CENTER == LINCOLN MEDICAL MENTAL HEALTH CENTER\n",
      "AHAVA MEDICAL REHABILITATION CENTER == LINCOLN MEDICAL MENTAL HEALTH CENTER\n",
      "FLUSHING HOSPITAL MEDICAL CENTER == LINCOLN MEDICAL MENTAL HEALTH CENTER\n",
      "AGEONICS MEDICAL == AMERICAN MEDICAL ALERT\n",
      "SOTERIX MEDICAL == AMERICAN MEDICAL ALERT\n",
      "THE ANIMAL MEDICAL CENTER == LINCOLN MEDICAL MENTAL HEALTH CENTER\n",
      "OFFICE USE == ALFARO FAMILY OFFICE\n",
      "NYC DEPARTMENT OF CITY == THE NEW YORK CITY DEPARTMENT OF HEALTH AND MENTAL\n",
      "NYC HHC == AKA NYC LIMITED\n",
      "REP OFFICE OF == NYC OFFICE OF MANAGEMENT AND BUDGET\n",
      "REPRESENTATIVE OFFICE OF == NYC OFFICE OF MANAGEMENT AND BUDGET\n"
     ]
    }
   ],
   "source": [
    "keys = list(mapping.keys())\n",
    "for ind, key in enumerate(keys):\n",
    "    print(key, \"==\", mapping[key])\n",
    "    if ind == 200:\n",
    "        break"
   ]
  },
  {
   "cell_type": "markdown",
   "metadata": {
    "collapsed": true
   },
   "source": [
    "Despite my best efforts I could not create a satisfactory categorization for businesses, mapping them to unique names.  So I will simply treat each of these businesses as seperate entities, both legally and semantically.\n",
    "\n",
    "Returning to the question at hand:\n",
    "\n",
    "To get the companies which applied for the largest number of H1B-visas I simply did the following:"
   ]
  },
  {
   "cell_type": "code",
   "execution_count": 72,
   "metadata": {
    "collapsed": false
   },
   "outputs": [
    {
     "name": "stdout",
     "output_type": "stream",
     "text": [
      "PRICEWATERHOUSECOOPERS, LLP 4810.0\n",
      "NEW YORK CITY DEPARTMENT OF EDUCATION 2871.0\n",
      "ERNST & YOUNG U.S. LLP 2479.0\n",
      "DELOITTE CONSULTING LLP 2430.0\n",
      "MPHASIS CORPORATION 1860.0\n",
      "DELOITTE & TOUCHE LLP 1556.0\n",
      "WIPRO LIMITED 1343.0\n",
      "CAPGEMINI FINANCIAL SERVICES USA INC 1161.0\n",
      "TATA CONSULTANCY SERVICES LIMITED 1027.0\n",
      "IGATE TECHNOLOGIES INC. 923.0\n",
      "JPMORGAN CHASE & CO. 634.0\n",
      "PRICEWATERHOUSECOOPERS ADVISORY LLC 600.0\n",
      "GOLDMAN, SACHS & CO. 578.0\n",
      "PRICEWATERHOUSECOOPERS LLP 560.0\n",
      "BLOOMBERG, LP 550.0\n",
      "GRANDISON MANAGEMENT, INC. 540.0\n",
      "DELOITTE TAX LLP 489.0\n",
      "BILINGUALS INC. 469.0\n",
      "INFOSYS LIMITED 469.0\n",
      "MINDTREE LIMITED 430.0\n",
      "MORGAN STANLEY & CO. LLC 427.0\n",
      "RBC CAPITAL MARKETS, LLC 412.0\n",
      "MERRILL LYNCH 398.0\n",
      "DELOITTE TRANSACTIONS AND BUSINESS ANALYTICS LLP 360.0\n",
      "POLARIS SOFTWARE LAB (INDIA) LTD. 345.0\n",
      "DELOITTE &AMP; TOUCHE LLP 330.0\n",
      "BANK OF AMERICA N.A. 321.0\n",
      "CREDIT SUISSE SECURITIES (USA) LLC 285.0\n",
      "COLUMBIA UNIVERSITY 284.0\n",
      "CITIBANK, N.A. 284.0\n",
      "LARSEN & TOUBRO INFOTECH LIMITED 280.0\n",
      "ITNEWTON INC 278.0\n",
      "GOOGLE INC. 277.0\n",
      "SYNTEL CONSULTING INC. 247.0\n",
      "BRONX-LEBANON HOSPITAL CENTER 226.0\n",
      "ACCENTURE LLP 225.0\n",
      "BLACKROCK FINANCIAL MANAGEMENT, INC. 221.0\n",
      "CSC COVANSYS CORPORATION 220.0\n",
      "BARCLAYS SERVICES CORP. 219.0\n",
      "KPMG LLP 219.0\n",
      "SYNTEL INC 215.0\n",
      "CITIGROUP GLOBAL MARKETS INC. 214.0\n",
      "MOUNT SINAI MEDICAL CENTER 212.0\n",
      "HCL AMERICA, INC. 188.0\n",
      "DEUTSCHE BANK SECURITIES INC. 176.0\n",
      "UBS SECURITIES LLC 170.0\n",
      "GOLDMAN SACHS & CO. 157.0\n",
      "MEMORIAL SLOAN-KETTERING CANCER CENTER 155.0\n",
      "HEADSTRONG SERVICES LLC 151.0\n",
      "NEW YORK UNIVERSITY 151.0\n",
      "NEW YORK UNIVERSITY SCHOOL OF MEDICINE 146.0\n",
      "BARCLAYS CAPITAL INC. 145.0\n",
      "MONTEFIORE MEDICAL CENTER 144.0\n",
      "THE BOSTON CONSULTING GROUP, INC. 144.0\n",
      "THE EXECU|SEARCH GROUP 144.0\n",
      "MCKINSEY & COMPANY, INC. UNITED STATES 140.0\n",
      "WEILL CORNELL MEDICAL COLLEGE 137.0\n",
      "BIRLASOFT INC 135.0\n",
      "DELOITTE LLP 135.0\n",
      "IDEO LP 130.0\n",
      "ST. BARNABAS HOSPITAL 123.0\n",
      "JEFFERIES LLC 122.0\n",
      "DEUTSCHE BANK NEW YORK BRANCH 118.0\n",
      "BLACKROCK INVESTMENT MANAGEMENT, LLC 117.0\n",
      "NESS USA, INC. 117.0\n",
      "RCM TECHNOLOGIES INC 110.0\n",
      "ZS ASSOCIATES, INC. 107.0\n",
      "FUJITSU AMERICA, INC. 107.0\n",
      "DELOITTE FINANCIAL ADVISORY SERVICES LLP 105.0\n",
      "THE CAPITAL MARKETS COMPANY 105.0\n",
      "ORACLE FINANCIAL SERVICES SOFTWARE, INC. 103.0\n"
     ]
    }
   ],
   "source": [
    "from collections import OrderedDict\n",
    "h1b_nyc = nyc[nyc[\"visa_class\"] == \"H-1B\"]\n",
    "employers = list(h1b_nyc[\"lca_case_employer_name\"].unique())\n",
    "value_counts = {}.fromkeys(employers, 0)\n",
    "for employer in employers:\n",
    "    tmp_df = h1b_nyc[h1b_nyc[\"lca_case_employer_name\"] == employer]\n",
    "    for index in tmp_df.index:\n",
    "        value_counts[employer] += tmp_df.ix[index][\"total_workers\"]\n",
    "value_counts = OrderedDict(sorted(value_counts.items(), key=lambda t: t[1], reverse=True))\n",
    "for employer in value_counts:\n",
    "    if value_counts[employer] > 100:\n",
    "        print(employer, value_counts[employer])"
   ]
  },
  {
   "cell_type": "markdown",
   "metadata": {},
   "source": [
    "As you can see from the above data - some of these companies appear twice maybe more.  So we start with this list of folks on the top that we already see having repeats:\n",
    "\n",
    "* NEW YORK UNIVERSITY\n",
    "* BARCLAYS\n",
    "* CITIGROUP\n",
    "\n",
    "So let's create mappings for those names to see if we can get there true numbers."
   ]
  },
  {
   "cell_type": "code",
   "execution_count": 73,
   "metadata": {
    "collapsed": false
   },
   "outputs": [
    {
     "name": "stdout",
     "output_type": "stream",
     "text": [
      "PRICEWATERHOUSECOOPERS 5970.0\n",
      "DELOITTE 5496.0\n",
      "NEW YORK CITY DEPARTMENT OF EDUCATION 2871.0\n",
      "ERNST & YOUNG 2479.0\n",
      "MPHASIS 1860.0\n",
      "WIPRO 1343.0\n",
      "CAPGEMINI 1201.0\n",
      "TATA 1029.0\n",
      "IGATE 923.0\n",
      "GOLDMAN 785.0\n",
      "CHASE 698.0\n",
      "NESS 640.0\n",
      "CITI 629.0\n",
      "MORGAN STANLEY 581.0\n",
      "BLOOMBERG 569.0\n",
      "GRANDISON 550.0\n",
      "INFOSYS 479.0\n",
      "BILINGUALS 469.0\n",
      "SYNTEL 462.0\n",
      "MINDTREE 430.0\n",
      "BARCLAYS 428.0\n",
      "BLACKROCK 424.0\n",
      "RBC 412.0\n",
      "POLARIS 408.0\n",
      "MERRILL LYNCH 398.0\n",
      "NEW YORK UNIVERSITY 357.0\n",
      "BANK OF AMERICA 328.0\n",
      "DEUTSCHE 319.0\n",
      "CREDIT SUISSE 298.0\n",
      "COLUMBIA UNIVERSITY 295.0\n",
      "GOOGLE 285.0\n",
      "LARSEN & TOUBRO 283.0\n",
      "ITNEWTON 278.0\n",
      "UBS 274.0\n",
      "MOUNT SINAI 230.0\n",
      "BRONX-LEBANON 228.0\n",
      "ACCENTURE 226.0\n",
      "CSC COVANSYS 220.0\n",
      "KPMG 219.0\n",
      "HCL 205.0\n",
      "ORACLE 161.0\n",
      "MEMORIAL SLOAN-KETTERING 155.0\n",
      "MONTEFIORE 154.0\n",
      "HEADSTRONG 151.0\n",
      "RCM 150.0\n",
      "BOSTON 147.0\n",
      "EXECU|SEARCH 144.0\n",
      "MCKINSEY 141.0\n",
      "CORNELL 137.0\n",
      "IDEO 137.0\n",
      "BIRLASOFT 135.0\n",
      "JEFFERIES 133.0\n",
      "ST. BARNABAS 123.0\n",
      "ZS 110.0\n",
      "FUJITSU 108.0\n"
     ]
    }
   ],
   "source": [
    "true_counts = {\n",
    "    \"PRICEWATERHOUSECOOPERS\": 0,\n",
    "    \"MPHASIS\": 0,\n",
    "    \"ERNST & YOUNG\": 0,\n",
    "    \"TATA\": 0,\n",
    "    \"CHASE\": 0,\n",
    "    \"INFOSYS\": 0,\n",
    "    \"MORGAN STANLEY\": 0, \n",
    "    \"GOLDMAN\": 0,\n",
    "    \"DELOITTE\": 0,\n",
    "    \"BLOOMBERG\": 0,\n",
    "    \"CREDIT SUISSE\": 0,\n",
    "    \"CITI\": 0,\n",
    "    \"COLUMBIA UNIVERSITY\": 0,\n",
    "    \"GOOGLE\": 0,\n",
    "    \"WIPRO\": 0,\n",
    "    \"LARSEN & TOUBRO\": 0,\n",
    "    \"BARCLAYS\": 0,\n",
    "    \"MOUNT SINAI\": 0,\n",
    "    \"CAPGEMINI\": 0,\n",
    "    \"KPMG\": 0, \n",
    "    \"DEUTSCHE\": 0,\n",
    "    \"MEMORIAL SLOAN-KETTERING\": 0,\n",
    "    \"NEW YORK UNIVERSITY\": 0,\n",
    "    \"HEADSTRONG\": 0,\n",
    "    \"BANK OF AMERICA\": 0,\n",
    "    \"IGATE\": 0,\n",
    "    \"BLACKROCK\": 0,\n",
    "    \"ACCENTURE\": 0,\n",
    "    \"MERRILL LYNCH\": 0,\n",
    "    \"CORNELL\": 0,\n",
    "    \"ST. BARNABAS\": 0,\n",
    "    \"MONTEFIORE\": 0,\n",
    "    \"UBS\": 0,\n",
    "    \"BRONX-LEBANON\": 0,\n",
    "    \"NEW YORK CITY DEPARTMENT OF EDUCATION\": 0,\n",
    "    \"GRANDISON\": 0,\n",
    "    \"BILINGUALS\": 0,\n",
    "    \"MINDTREE\": 0,\n",
    "    \"RBC\": 0,\n",
    "    \"POLARIS\": 0,\n",
    "    \"ITNEWTON\": 0,\n",
    "    \"SYNTEL\": 0,\n",
    "    \"CSC COVANSYS\": 0,\n",
    "    \"HCL\": 0,\n",
    "    \"BOSTON\": 0,\n",
    "    \"EXECU|SEARCH\": 0,\n",
    "    \"MCKINSEY\": 0,\n",
    "    \"BIRLASOFT\": 0,\n",
    "    \"IDEO\": 0,\n",
    "    \"JEFFERIES\": 0,\n",
    "    \"NESS\": 0,\n",
    "    \"RCM\": 0,\n",
    "    \"ZS\": 0,\n",
    "    \"FUJITSU\": 0,\n",
    "    \"ORACLE\": 0\n",
    "}\n",
    "# for employer in employer_counts.index:\n",
    "#    for true_employer in true_counts:\n",
    "#        if true_employer in employer:\n",
    "#            true_counts[true_employer] += employer_counts[employer]\n",
    "# for true_employer in true_counts:\n",
    "#    print(true_employer, true_counts[true_employer])\n",
    "\n",
    "for employer in value_counts:\n",
    "    for true_employer in true_counts:\n",
    "        if true_employer in employer:\n",
    "            true_counts[true_employer] += value_counts[employer]\n",
    "true_counts = OrderedDict(sorted(true_counts.items(), key=lambda t: t[1], reverse=True))\n",
    "for true_employer in true_counts:\n",
    "    print(true_employer, true_counts[true_employer])"
   ]
  },
  {
   "cell_type": "markdown",
   "metadata": {},
   "source": [
    "As you can you can see almost all the top tier employers increased in count.  In some cases, the number of H-1B visas doubled, with BARCLAYS as a clear example of this.  Going from 219 to 428.  The below visualization shows the relationship in jump for the top H-1B employers in NYC."
   ]
  },
  {
   "cell_type": "code",
   "execution_count": 17,
   "metadata": {
    "collapsed": true
   },
   "outputs": [],
   "source": [
    "# TO DO - use barchart with color overlay blue and red.  Don't stack, use overlay and opacity."
   ]
  },
  {
   "cell_type": "markdown",
   "metadata": {},
   "source": [
    "# Question two \n",
    "\n",
    "Problem Definition:\n",
    "\n",
    "Calculate the mean and standard deviation of wages proposed for workers located in New York City and Mountain View. Are the average wages in these two locations statistically different? What factors could explain the results?\n",
    "\n",
    "For this problem I'm going to make use of my results from question 1.  Additionally, I'll do what I do for question 1 with Mountain View.  "
   ]
  },
  {
   "cell_type": "code",
   "execution_count": 18,
   "metadata": {
    "collapsed": false
   },
   "outputs": [
    {
     "data": {
      "text/plain": [
       "Index(['lca_case_number', 'status', 'lca_case_submit', 'decision_date',\n",
       "       'visa_class', 'lca_case_employment_start_date',\n",
       "       'lca_case_employment_end_date', 'lca_case_employer_name',\n",
       "       'lca_case_employer_address', 'lca_case_employer_city',\n",
       "       'lca_case_employer_state', 'lca_case_employer_postal_code',\n",
       "       'lca_case_soc_code', 'lca_case_soc_name', 'lca_case_job_title',\n",
       "       'lca_case_wage_rate_from', 'lca_case_wage_rate_to',\n",
       "       'lca_case_wage_rate_unit', 'full_time_pos', 'total_workers',\n",
       "       'lca_case_workloc1_city', 'lca_case_workloc1_state', 'pw_1',\n",
       "       'pw_unit_1', 'pw_source_1', 'other_wage_source_1', 'yr_source_pub_1',\n",
       "       'lca_case_workloc2_city', 'lca_case_workloc2_state', 'pw_2',\n",
       "       'pw_unit_2', 'pw_source_2', 'other_wage_source_2', 'yr_source_pub_2',\n",
       "       'lca_case_naics_code'],\n",
       "      dtype='object')"
      ]
     },
     "execution_count": 18,
     "metadata": {},
     "output_type": "execute_result"
    }
   ],
   "source": [
    "nyc.columns"
   ]
  },
  {
   "cell_type": "markdown",
   "metadata": {},
   "source": [
    "As we can see there are a few variables that refer to wage.  Let's use inspect them to figure out which one is the right one to refer to.  In order to determine which one to use, I looked at the field descriptions on the company B platform.  Turns out `lca_case_wage_rate_from` is the number I want.  Before we take the average of all the data, we'll need to manipulate it a little bit.  Turns out some of the wages are hourly while others are yearly.\n",
    "\n",
    "We observe this by doing the following inspection:"
   ]
  },
  {
   "cell_type": "code",
   "execution_count": 17,
   "metadata": {
    "collapsed": false
   },
   "outputs": [
    {
     "data": {
      "text/plain": [
       "(9.0, 13900000.0)"
      ]
     },
     "execution_count": 17,
     "metadata": {},
     "output_type": "execute_result"
    }
   ],
   "source": [
    "nyc[\"lca_case_wage_rate_from\"].min(), nyc[\"lca_case_wage_rate_from\"].max()"
   ]
  },
  {
   "cell_type": "markdown",
   "metadata": {},
   "source": [
    "Further, inspecting the data on the B platform shows that there is a field called \n",
    "`lca_case_wage_rate_unit` which is used to state whether the wage is in yearly or hourly dollars.  In order to get everything in terms of yearly dollars I am making the following assumptions:\n",
    "\n",
    "1) everyone works 40 hours per week \n",
    "2) everyone takes vacation of 2 weeks + national holidays. \n",
    "\n",
    "There are 11 national holidays according to - https://en.wikipedia.org/wiki/Public_holidays_in_the_United_States.  So that means if you get two weeks vacation + the 11 holiday days, you'll take off 21 days per year.\n",
    "\n",
    "It turns out there are multiple delineations of time for the the wage units:"
   ]
  },
  {
   "cell_type": "code",
   "execution_count": 39,
   "metadata": {
    "collapsed": false
   },
   "outputs": [
    {
     "data": {
      "text/plain": [
       "array(['Year', 'Hour', 'Week', 'Month', 'Bi-Weekly'], dtype=object)"
      ]
     },
     "execution_count": 39,
     "metadata": {},
     "output_type": "execute_result"
    }
   ],
   "source": [
    "nyc[\"lca_case_wage_rate_unit\"].unique()"
   ]
  },
  {
   "cell_type": "markdown",
   "metadata": {},
   "source": [
    "So we need to translate to each of these.\n",
    "\n",
    "For Hourly we have:\n",
    "\n",
    "Therefore we have ~365 days - 21 days of vacation - (52 * 2) days for weekends.  Which leaves us with 240 working days, at a rate of 8 hours a day.  Thus we do 240 working days * 8 hours per day to get 1920 hours.\n",
    "\n",
    "For Weekly:\n",
    "\n",
    "1920 hours / 40 (hours / week) -> 48 weeks.\n",
    "\n",
    "For Month:\n",
    "\n",
    "We use the above fact that there are 21 days of vacation.  Therefore there are 11.25 months of pay.\n",
    "\n",
    "For Bi-weekly, we simply divide weekly by 2:\n",
    "\n",
    "48 weeks / 2 = 24 bi weeks."
   ]
  },
  {
   "cell_type": "code",
   "execution_count": 45,
   "metadata": {
    "collapsed": true
   },
   "outputs": [],
   "source": [
    "conversion_table = {\n",
    "    \"Hour\": 1920,\n",
    "    \"Year\": 1,\n",
    "    \"Week\": 48,\n",
    "    \"Month\": 11.25,\n",
    "    \"Bi-Weekly\": 24\n",
    "}"
   ]
  },
  {
   "cell_type": "markdown",
   "metadata": {},
   "source": [
    "Above is our conversion table for the calculation to wages in yearly figures."
   ]
  },
  {
   "cell_type": "code",
   "execution_count": 8,
   "metadata": {
    "collapsed": false
   },
   "outputs": [
    {
     "name": "stderr",
     "output_type": "stream",
     "text": [
      "/Library/Frameworks/Python.framework/Versions/3.6/lib/python3.6/site-packages/ipykernel_launcher.py:11: SettingWithCopyWarning: \n",
      "A value is trying to be set on a copy of a slice from a DataFrame.\n",
      "Try using .loc[row_indexer,col_indexer] = value instead\n",
      "\n",
      "See the caveats in the documentation: http://pandas.pydata.org/pandas-docs/stable/indexing.html#indexing-view-versus-copy\n",
      "  # This is added back by InteractiveShellApp.init_path()\n"
     ]
    }
   ],
   "source": [
    "def to_yearly_wages(x):\n",
    "    conversion_table = {\n",
    "        \"Hour\": 1920,\n",
    "        \"Year\": 1,\n",
    "        \"Week\": 48,\n",
    "        \"Month\": 11.25,\n",
    "        \"Bi-Weekly\": 24\n",
    "    }\n",
    "    return conversion_table[x[\"lca_case_wage_rate_unit\"]] * x[\"lca_case_wage_rate_from\"]\n",
    "    \n",
    "nyc[\"yearly_wages\"] = nyc.apply(to_yearly_wages, axis=1)"
   ]
  },
  {
   "cell_type": "markdown",
   "metadata": {},
   "source": [
    "Let's inspect our new max and min values:"
   ]
  },
  {
   "cell_type": "code",
   "execution_count": 43,
   "metadata": {
    "collapsed": false
   },
   "outputs": [
    {
     "data": {
      "text/plain": [
       "(17280.0, 254400000.0)"
      ]
     },
     "execution_count": 43,
     "metadata": {},
     "output_type": "execute_result"
    }
   ],
   "source": [
    "nyc[\"yearly_wages\"].min(), nyc[\"yearly_wages\"].max()"
   ]
  },
  {
   "cell_type": "markdown",
   "metadata": {},
   "source": [
    "That seems a lot better!  At least on the low end.  I'm somewhat skeptical of the high end figure - let's investigate the frequency of folks making more than 1 million dollars a year.\n"
   ]
  },
  {
   "cell_type": "code",
   "execution_count": 44,
   "metadata": {
    "collapsed": false
   },
   "outputs": [
    {
     "data": {
      "text/plain": [
       "31"
      ]
     },
     "execution_count": 44,
     "metadata": {},
     "output_type": "execute_result"
    }
   ],
   "source": [
    "len(nyc[nyc[\"yearly_wages\"] > 1000000])"
   ]
  },
  {
   "cell_type": "markdown",
   "metadata": {},
   "source": [
    "Alright, so there are 31 people making more than 1 million dollars a year.  That seems right in a city the size of New York.  \n",
    "\n",
    "Let's now plot our distribution of wages and make sure our wages or normally distributed.  If not we'll need to use a different moment generating function to capture the mean and standard deviation."
   ]
  },
  {
   "cell_type": "code",
   "execution_count": 45,
   "metadata": {
    "collapsed": false
   },
   "outputs": [
    {
     "data": {
      "text/plain": [
       "NormaltestResult(statistic=121420.30420595114, pvalue=0.0)"
      ]
     },
     "execution_count": 45,
     "metadata": {},
     "output_type": "execute_result"
    }
   ],
   "source": [
    "from scipy import stats\n",
    "stats.normaltest(nyc[\"yearly_wages\"])"
   ]
  },
  {
   "cell_type": "markdown",
   "metadata": {
    "collapsed": true
   },
   "source": [
    "We can see the result of the normaltest is a pvalue of zero, which means we reject the null hypothesis that this data is not normally distributed.  Implying the data is normally distributed.\n",
    "\n",
    "Here the statistic refers to the combination of the square of the z-score for the skew-test + the square of the z-score of the test of kurtosis.  Let's look at a plot of the data and compare it to the normal distribution."
   ]
  },
  {
   "cell_type": "code",
   "execution_count": 46,
   "metadata": {
    "collapsed": false
   },
   "outputs": [
    {
     "data": {
      "text/plain": [
       "<matplotlib.axes._subplots.AxesSubplot at 0x10e15d198>"
      ]
     },
     "execution_count": 46,
     "metadata": {},
     "output_type": "execute_result"
    },
    {
     "data": {
      "image/png": "[encoded data removed]",
      "text/plain": [
       "<matplotlib.figure.Figure at 0x10da93550>"
      ]
     },
     "metadata": {},
     "output_type": "display_data"
    }
   ],
   "source": [
    "nyc[\"yearly_wages\"].plot.hist()"
   ]
  },
  {
   "cell_type": "markdown",
   "metadata": {},
   "source": [
    "the outliers are skewing our plot so we can't see much of the shape of the other data.  Let's remove our outliers, just to see the shape of the rest of our data."
   ]
  },
  {
   "cell_type": "code",
   "execution_count": 56,
   "metadata": {
    "collapsed": false
   },
   "outputs": [
    {
     "data": {
      "text/plain": [
       "<matplotlib.axes._subplots.AxesSubplot at 0x11075c2e8>"
      ]
     },
     "execution_count": 56,
     "metadata": {},
     "output_type": "execute_result"
    },
    {
     "data": {
      "image/png": "[encoded data removed]",
      "text/plain": [
       "<matplotlib.figure.Figure at 0x10ebfd1d0>"
      ]
     },
     "metadata": {},
     "output_type": "display_data"
    }
   ],
   "source": [
    "no_outlier_wages_nyc = nyc[nyc[\"yearly_wages\"] < 500000]\n",
    "no_outlier_wages_nyc[\"yearly_wages\"].plot.hist()"
   ]
  },
  {
   "cell_type": "code",
   "execution_count": 59,
   "metadata": {
    "collapsed": false
   },
   "outputs": [
    {
     "data": {
      "text/plain": [
       "(25879, 37499, 0.6901250700018667)"
      ]
     },
     "execution_count": 59,
     "metadata": {},
     "output_type": "execute_result"
    }
   ],
   "source": [
    "len(nyc[nyc[\"yearly_wages\"] < 100000]), len(nyc), len(nyc[nyc[\"yearly_wages\"] < 100000]) / len(nyc)"
   ]
  },
  {
   "cell_type": "markdown",
   "metadata": {},
   "source": [
    "Interestingly about 70% of the data is less than 100000 per year.  My guess is that this data is normally distributed?  The amount of outliers though seems to be skewing the data far to the right.  It appears surprising to me that the pvalue for the normaltest would be 0, considering this data is clearly very skewed (as the test also indicates with the statistics).  My only guess, as to why we reject the null hypothesis is because of the size of the data.  Something about the asymptotics of the test for normality seems to giving enough evidence of highly skewed, but normal data.  In any event, clearly this data is _not_ normally distributed and the normal distribution moment generating function at the first and second level would produce biased estimators.  \n",
    "\n",
    "Therefore we must entertain other possible distributions and moment generating functions in order to capture unbiased estimators.\n",
    "\n",
    "In order to get a full picture of the data, I will employ both a bayesian and frequentist approach to get at descriptive statistics for the dataset.  First I will apply a bayesian method - creating a general mixture model of multiple distributions and then \"fitting\" the data to the distributions, making use of visuals to inspect how well the general mixing distribution captures the data's descriptive statistics.  Then I will make use of median and interquartile range to capture measures less sensitive to outliers.  \n",
    "\n",
    "The reason I have chosen to capture both is because here the outliers matter.  It's not just how much the average worker in New York City makes versus Mountain View, it's how much the top tier worker makes as well.  This is because at the heart of this problem, I believe is the choice that H1B workers make when they choose to live in either New York City and Mountain View.  This choice will be determined, by amongst other thing their total potential earning power as well as their current realized earning power.  \n",
    "\n",
    "Therefore, we must carefully consider both sets of motivations if we intend on saying anything meaningful about New York City and Mountain View and it's population of H1B workers."
   ]
  },
  {
   "cell_type": "code",
   "execution_count": 91,
   "metadata": {
    "collapsed": false
   },
   "outputs": [
    {
     "name": "stdout",
     "output_type": "stream",
     "text": [
      "Normally Distributed 36940\n",
      "Exponentially Distributed 559\n"
     ]
    }
   ],
   "source": [
    "import pomegranate as pom\n",
    "nyc[\"yearly_wages\"] = nyc[\"yearly_wages\"].astype(float)\n",
    "yearly_wages = [[elem] for elem in nyc[\"yearly_wages\"]]\n",
    "model = pom.GeneralMixtureModel.from_samples(\n",
    "    [pom.NormalDistribution, pom.ExponentialDistribution],\n",
    "    n_components=2, X=yearly_wages)\n",
    "labels = model.predict(yearly_wages)\n",
    "label_mapping = [\"Normally Distributed\", \"Exponentially Distributed\"]\n",
    "for elem in zip(set(labels), np.bincount(labels)):\n",
    "    print(label_mapping[elem[0]], elem[1])"
   ]
  },
  {
   "cell_type": "code",
   "execution_count": 121,
   "metadata": {
    "collapsed": false
   },
   "outputs": [
    {
     "name": "stdout",
     "output_type": "stream",
     "text": [
      "The first model is normally distributed\n",
      "The first model's mean is 86205.77544713496\n",
      "The first model's stardard deviation is 37785.587825405746\n",
      "\n",
      "The second model is exponentially distributed\n",
      "The second model's mean is 4679806.930660747\n",
      "The second model's standard deviation is 4679806.930660747\n",
      "Overall yearly wages center 75000.0\n",
      "Overall yearly wages spread 46400.0\n"
     ]
    }
   ],
   "source": [
    "mu, std = model.distributions[0].parameters\n",
    "Lambda = model.distributions[1].parameters[0]\n",
    "print(\"The first model is normally distributed\")\n",
    "print(\"The first model's mean is\", mu)\n",
    "print(\"The first model's stardard deviation is\", std)\n",
    "print()\n",
    "print(\"The second model is exponentially distributed\")\n",
    "print(\"The second model's mean is\", 1/Lambda)\n",
    "print(\"The second model's standard deviation is\", 1/Lambda)\n",
    "print(\"Overall yearly wages center\", nyc[\"yearly_wages\"].median())\n",
    "print(\"Overall yearly wages spread\", nyc[\"yearly_wages\"].quantile(.75) - nyc[\"yearly_wages\"].quantile(.25))"
   ]
  },
  {
   "cell_type": "markdown",
   "metadata": {},
   "source": [
    "Now that we have a reasonable and nuanced description of our distribution, let's look at the Mountain View dataset."
   ]
  },
  {
   "cell_type": "code",
   "execution_count": 114,
   "metadata": {
    "collapsed": false
   },
   "outputs": [
    {
     "name": "stdout",
     "output_type": "stream",
     "text": [
      "MOUNTAIN VIEW CITY\n",
      "MOUNTAIN VIEW, CA\n",
      "MOUNTAIN VIEW\n",
      "MOUNTAIN VIEW,\n",
      "MOUTAIN VIEW\n",
      "GLENVIEW\n",
      "MOUNATIN VIEW\n",
      "MOUNTAINT VIEW\n",
      "MOUNTAINVIEW\n",
      "MOUNTAIN VIEW\\\n",
      "MOUNTAIN VIEW, CA 94043\n",
      "MONTAIN VIEW\n",
      "MOUNTIAN VIEW\n"
     ]
    }
   ],
   "source": [
    "first_work_location = df[df[\"lca_case_workloc1_state\"] == \"CA\"]\n",
    "second_work_location = df[df[\"lca_case_workloc2_state\"] == \"CA\"]\n",
    "loc1_cities = list(set(first_work_location[\"lca_case_workloc1_city\"]))\n",
    "loc2_cities = list(set(second_work_location[\"lca_case_workloc2_city\"]))\n",
    "total_cities = list(set(loc1_cities + loc2_cities))\n",
    "total_cities = [city for city in total_cities if city is not np.nan]\n",
    "for city in total_cities:\n",
    "    if \"view\" in city.lower():\n",
    "        print(city)"
   ]
  },
  {
   "cell_type": "markdown",
   "metadata": {},
   "source": [
    "As we can see, the naming issue is here as well, except less exaggerted.  So let's account for this."
   ]
  },
  {
   "cell_type": "code",
   "execution_count": 116,
   "metadata": {
    "collapsed": false
   },
   "outputs": [
    {
     "data": {
      "text/html": [
       "<div>\n",
       "<table border=\"1\" class=\"dataframe\">\n",
       "  <thead>\n",
       "    <tr style=\"text-align: right;\">\n",
       "      <th></th>\n",
       "      <th>lca_case_number</th>\n",
       "      <th>status</th>\n",
       "      <th>lca_case_submit</th>\n",
       "      <th>decision_date</th>\n",
       "      <th>visa_class</th>\n",
       "      <th>lca_case_employment_start_date</th>\n",
       "      <th>lca_case_employment_end_date</th>\n",
       "      <th>lca_case_employer_name</th>\n",
       "      <th>lca_case_employer_address</th>\n",
       "      <th>lca_case_employer_city</th>\n",
       "      <th>...</th>\n",
       "      <th>other_wage_source_1</th>\n",
       "      <th>yr_source_pub_1</th>\n",
       "      <th>lca_case_workloc2_city</th>\n",
       "      <th>lca_case_workloc2_state</th>\n",
       "      <th>pw_2</th>\n",
       "      <th>pw_unit_2</th>\n",
       "      <th>pw_source_2</th>\n",
       "      <th>other_wage_source_2</th>\n",
       "      <th>yr_source_pub_2</th>\n",
       "      <th>lca_case_naics_code</th>\n",
       "    </tr>\n",
       "  </thead>\n",
       "  <tbody>\n",
       "    <tr>\n",
       "      <th>288</th>\n",
       "      <td>I-200-10299-087885</td>\n",
       "      <td>WITHDRAWN</td>\n",
       "      <td>2010-10-27</td>\n",
       "      <td>2014-01-02</td>\n",
       "      <td>H-1B</td>\n",
       "      <td>2011-01-18</td>\n",
       "      <td>2014-01-17</td>\n",
       "      <td>GOOGLE INC.</td>\n",
       "      <td>1600 AMPHITHEATRE PARKWAY</td>\n",
       "      <td>MOUNTAIN VIEW</td>\n",
       "      <td>...</td>\n",
       "      <td>OFLC ONLINE DATA CENTER</td>\n",
       "      <td>2010.0</td>\n",
       "      <td>NaN</td>\n",
       "      <td>NaN</td>\n",
       "      <td>NaN</td>\n",
       "      <td>NaN</td>\n",
       "      <td>NaN</td>\n",
       "      <td>NaN</td>\n",
       "      <td>NaN</td>\n",
       "      <td>541512.0</td>\n",
       "    </tr>\n",
       "    <tr>\n",
       "      <th>1296</th>\n",
       "      <td>I-200-11074-036949</td>\n",
       "      <td>CERTIFIED-WITHDRAWN</td>\n",
       "      <td>2011-03-15</td>\n",
       "      <td>2013-10-30</td>\n",
       "      <td>H-1B</td>\n",
       "      <td>2011-04-04</td>\n",
       "      <td>2014-04-03</td>\n",
       "      <td>INTEGRAL DEVELOPMENT CORPORATION</td>\n",
       "      <td>2023 STIERLIN COURT</td>\n",
       "      <td>MOUNTAIN VIEW</td>\n",
       "      <td>...</td>\n",
       "      <td>OFLC ONLINE DATA CENTER</td>\n",
       "      <td>2011.0</td>\n",
       "      <td>NaN</td>\n",
       "      <td>NaN</td>\n",
       "      <td>NaN</td>\n",
       "      <td>NaN</td>\n",
       "      <td>NaN</td>\n",
       "      <td>NaN</td>\n",
       "      <td>NaN</td>\n",
       "      <td>511200.0</td>\n",
       "    </tr>\n",
       "    <tr>\n",
       "      <th>1336</th>\n",
       "      <td>I-200-11075-508915</td>\n",
       "      <td>CERTIFIED-WITHDRAWN</td>\n",
       "      <td>2011-03-16</td>\n",
       "      <td>2014-04-14</td>\n",
       "      <td>H-1B</td>\n",
       "      <td>2011-09-11</td>\n",
       "      <td>2014-09-10</td>\n",
       "      <td>MICROSOFT CORPORATION</td>\n",
       "      <td>1 MICROSOFT WAY</td>\n",
       "      <td>REDMOND</td>\n",
       "      <td>...</td>\n",
       "      <td>OFLC ONLINE DATA CENTER</td>\n",
       "      <td>2010.0</td>\n",
       "      <td>NaN</td>\n",
       "      <td>NaN</td>\n",
       "      <td>NaN</td>\n",
       "      <td>NaN</td>\n",
       "      <td>NaN</td>\n",
       "      <td>NaN</td>\n",
       "      <td>NaN</td>\n",
       "      <td>51121.0</td>\n",
       "    </tr>\n",
       "    <tr>\n",
       "      <th>1648</th>\n",
       "      <td>I-200-11089-186173</td>\n",
       "      <td>WITHDRAWN</td>\n",
       "      <td>2011-03-30</td>\n",
       "      <td>2014-01-02</td>\n",
       "      <td>H-1B</td>\n",
       "      <td>2011-09-29</td>\n",
       "      <td>2014-09-28</td>\n",
       "      <td>GOOGLE INC.</td>\n",
       "      <td>1600 AMPHITHEATRE PARKWAY</td>\n",
       "      <td>MOUNTAIN VIEW</td>\n",
       "      <td>...</td>\n",
       "      <td>OFLC ONLINE DATA CENTER</td>\n",
       "      <td>2010.0</td>\n",
       "      <td>NaN</td>\n",
       "      <td>NaN</td>\n",
       "      <td>NaN</td>\n",
       "      <td>NaN</td>\n",
       "      <td>NaN</td>\n",
       "      <td>NaN</td>\n",
       "      <td>NaN</td>\n",
       "      <td>541512.0</td>\n",
       "    </tr>\n",
       "    <tr>\n",
       "      <th>1850</th>\n",
       "      <td>I-200-11101-672641</td>\n",
       "      <td>CERTIFIED-WITHDRAWN</td>\n",
       "      <td>2011-04-15</td>\n",
       "      <td>2014-03-07</td>\n",
       "      <td>H-1B</td>\n",
       "      <td>2011-10-01</td>\n",
       "      <td>2014-09-30</td>\n",
       "      <td>PRAMATI TECHNOLOGIES PRIVATE LIMITED</td>\n",
       "      <td>1975 W. EL CAMINO REAL</td>\n",
       "      <td>MOUNTAIN VIEW</td>\n",
       "      <td>...</td>\n",
       "      <td>OFLC ONLINE DATA CENTER</td>\n",
       "      <td>2010.0</td>\n",
       "      <td>NaN</td>\n",
       "      <td>NaN</td>\n",
       "      <td>NaN</td>\n",
       "      <td>NaN</td>\n",
       "      <td>NaN</td>\n",
       "      <td>NaN</td>\n",
       "      <td>NaN</td>\n",
       "      <td>541511.0</td>\n",
       "    </tr>\n",
       "  </tbody>\n",
       "</table>\n",
       "<p>5 rows × 35 columns</p>\n",
       "</div>"
      ],
      "text/plain": [
       "         lca_case_number               status lca_case_submit decision_date  \\\n",
       "288   I-200-10299-087885            WITHDRAWN      2010-10-27    2014-01-02   \n",
       "1296  I-200-11074-036949  CERTIFIED-WITHDRAWN      2011-03-15    2013-10-30   \n",
       "1336  I-200-11075-508915  CERTIFIED-WITHDRAWN      2011-03-16    2014-04-14   \n",
       "1648  I-200-11089-186173            WITHDRAWN      2011-03-30    2014-01-02   \n",
       "1850  I-200-11101-672641  CERTIFIED-WITHDRAWN      2011-04-15    2014-03-07   \n",
       "\n",
       "     visa_class lca_case_employment_start_date lca_case_employment_end_date  \\\n",
       "288        H-1B                     2011-01-18                   2014-01-17   \n",
       "1296       H-1B                     2011-04-04                   2014-04-03   \n",
       "1336       H-1B                     2011-09-11                   2014-09-10   \n",
       "1648       H-1B                     2011-09-29                   2014-09-28   \n",
       "1850       H-1B                     2011-10-01                   2014-09-30   \n",
       "\n",
       "                    lca_case_employer_name  lca_case_employer_address  \\\n",
       "288                            GOOGLE INC.  1600 AMPHITHEATRE PARKWAY   \n",
       "1296      INTEGRAL DEVELOPMENT CORPORATION        2023 STIERLIN COURT   \n",
       "1336                 MICROSOFT CORPORATION            1 MICROSOFT WAY   \n",
       "1648                           GOOGLE INC.  1600 AMPHITHEATRE PARKWAY   \n",
       "1850  PRAMATI TECHNOLOGIES PRIVATE LIMITED     1975 W. EL CAMINO REAL   \n",
       "\n",
       "     lca_case_employer_city         ...               other_wage_source_1  \\\n",
       "288           MOUNTAIN VIEW         ...           OFLC ONLINE DATA CENTER   \n",
       "1296          MOUNTAIN VIEW         ...           OFLC ONLINE DATA CENTER   \n",
       "1336                REDMOND         ...           OFLC ONLINE DATA CENTER   \n",
       "1648          MOUNTAIN VIEW         ...           OFLC ONLINE DATA CENTER   \n",
       "1850          MOUNTAIN VIEW         ...           OFLC ONLINE DATA CENTER   \n",
       "\n",
       "     yr_source_pub_1 lca_case_workloc2_city lca_case_workloc2_state pw_2  \\\n",
       "288           2010.0                    NaN                     NaN  NaN   \n",
       "1296          2011.0                    NaN                     NaN  NaN   \n",
       "1336          2010.0                    NaN                     NaN  NaN   \n",
       "1648          2010.0                    NaN                     NaN  NaN   \n",
       "1850          2010.0                    NaN                     NaN  NaN   \n",
       "\n",
       "      pw_unit_2  pw_source_2 other_wage_source_2 yr_source_pub_2  \\\n",
       "288         NaN          NaN                 NaN             NaN   \n",
       "1296        NaN          NaN                 NaN             NaN   \n",
       "1336        NaN          NaN                 NaN             NaN   \n",
       "1648        NaN          NaN                 NaN             NaN   \n",
       "1850        NaN          NaN                 NaN             NaN   \n",
       "\n",
       "      lca_case_naics_code  \n",
       "288              541512.0  \n",
       "1296             511200.0  \n",
       "1336              51121.0  \n",
       "1648             541512.0  \n",
       "1850             541511.0  \n",
       "\n",
       "[5 rows x 35 columns]"
      ]
     },
     "execution_count": 116,
     "metadata": {},
     "output_type": "execute_result"
    }
   ],
   "source": [
    "mountain_view_names = [\n",
    "    \"MOUNTAIN VIEW CITY\",\n",
    "    \"MOUNTAIN VIEW, CA\",\n",
    "    \"MOUNTAIN VIEW\",\n",
    "    \"MOUNTAIN VIEW,\",\n",
    "    \"MOUTAIN VIEW\",\n",
    "    \"MOUNATIN VIEW\",\n",
    "    \"MOUNTAINT VIEW\",\n",
    "    \"MOUNTAINVIEW\",\n",
    "    \"MOUNTAIN VIEW\\\\\",\n",
    "    \"MOUNTAIN VIEW, CA 94043\",\n",
    "    \"MONTAIN VIEW\",\n",
    "    \"MOUNTIAN VIEW\"\n",
    "]\n",
    "\n",
    "def segment_to_mountain_view(x):\n",
    "    if x in mountain_view_names:\n",
    "        return True\n",
    "    else:\n",
    "        return False\n",
    "\n",
    "mountain_view = df[df[\"lca_case_workloc1_city\"].apply(segment_to_mountain_view)]\n",
    "mountain_view.head()"
   ]
  },
  {
   "cell_type": "code",
   "execution_count": 117,
   "metadata": {
    "collapsed": false
   },
   "outputs": [
    {
     "name": "stderr",
     "output_type": "stream",
     "text": [
      "/Library/Frameworks/Python.framework/Versions/3.6/lib/python3.6/site-packages/ipykernel_launcher.py:11: SettingWithCopyWarning: \n",
      "A value is trying to be set on a copy of a slice from a DataFrame.\n",
      "Try using .loc[row_indexer,col_indexer] = value instead\n",
      "\n",
      "See the caveats in the documentation: http://pandas.pydata.org/pandas-docs/stable/indexing.html#indexing-view-versus-copy\n",
      "  # This is added back by InteractiveShellApp.init_path()\n"
     ]
    }
   ],
   "source": [
    "def to_yearly_wages(x):\n",
    "    conversion_table = {\n",
    "        \"Hour\": 1920,\n",
    "        \"Year\": 1,\n",
    "        \"Week\": 48,\n",
    "        \"Month\": 11.25,\n",
    "        \"Bi-Weekly\": 24\n",
    "    }\n",
    "    return conversion_table[x[\"lca_case_wage_rate_unit\"]] * x[\"lca_case_wage_rate_from\"]\n",
    "    \n",
    "mountain_view[\"yearly_wages\"] = mountain_view.apply(to_yearly_wages, axis=1)"
   ]
  },
  {
   "cell_type": "code",
   "execution_count": 119,
   "metadata": {
    "collapsed": false
   },
   "outputs": [
    {
     "data": {
      "text/plain": [
       "(30000.0, 243840000.0)"
      ]
     },
     "execution_count": 119,
     "metadata": {},
     "output_type": "execute_result"
    }
   ],
   "source": [
    "mountain_view[\"yearly_wages\"].min(), mountain_view[\"yearly_wages\"].max()"
   ]
  },
  {
   "cell_type": "markdown",
   "metadata": {},
   "source": [
    "It seems as though we have enough to start comparing.  The min and max salary are just a sanity check to make sure everything is in yearly salary.  \n",
    "\n",
    "Let's dig further into the mountain view set, to see if we need to do anything special to fit the distribution."
   ]
  },
  {
   "cell_type": "code",
   "execution_count": 123,
   "metadata": {
    "collapsed": true
   },
   "outputs": [],
   "source": [
    "below_500K_mv = mountain_view[mountain_view[\"yearly_wages\"] < 50000]\n",
    "above_500K_mv = mountain_view[mountain_view[\"yearly_wages\"] >= 50000]"
   ]
  },
  {
   "cell_type": "code",
   "execution_count": 125,
   "metadata": {
    "collapsed": false
   },
   "outputs": [
    {
     "data": {
      "text/plain": [
       "<matplotlib.axes._subplots.AxesSubplot at 0x1187a6fd0>"
      ]
     },
     "execution_count": 125,
     "metadata": {},
     "output_type": "execute_result"
    },
    {
     "data": {
      "image/png": "[encoded data removed]",
      "text/plain": [
       "<matplotlib.figure.Figure at 0x11805bb00>"
      ]
     },
     "metadata": {},
     "output_type": "display_data"
    }
   ],
   "source": [
    "below_500K_mv[\"yearly_wages\"].plot.hist()"
   ]
  },
  {
   "cell_type": "code",
   "execution_count": 126,
   "metadata": {
    "collapsed": false
   },
   "outputs": [
    {
     "data": {
      "text/plain": [
       "<matplotlib.axes._subplots.AxesSubplot at 0x117fd9c50>"
      ]
     },
     "execution_count": 126,
     "metadata": {},
     "output_type": "execute_result"
    },
    {
     "data": {
      "image/png": "[encoded data removed]",
      "text/plain": [
       "<matplotlib.figure.Figure at 0x11b9fc748>"
      ]
     },
     "metadata": {},
     "output_type": "display_data"
    }
   ],
   "source": [
    "above_500K_mv[\"yearly_wages\"].plot.hist()"
   ]
  },
  {
   "cell_type": "markdown",
   "metadata": {},
   "source": [
    "So this data is likely not normally distributed.  Let's use the normaltest to make sure."
   ]
  },
  {
   "cell_type": "code",
   "execution_count": 127,
   "metadata": {
    "collapsed": false
   },
   "outputs": [
    {
     "data": {
      "text/plain": [
       "NormaltestResult(statistic=13740.584834151119, pvalue=0.0)"
      ]
     },
     "execution_count": 127,
     "metadata": {},
     "output_type": "execute_result"
    }
   ],
   "source": [
    "from scipy import stats\n",
    "stats.normaltest(mountain_view[\"yearly_wages\"])"
   ]
  },
  {
   "cell_type": "markdown",
   "metadata": {},
   "source": [
    "Interestingly, this dataset appears far less skewed than nyc.  Both have a pvalue of 0.0, which again, I assume is an issue with the number of values.  The skew, kurtosis are still quiet, so I will proceed trying to fit a general mixing model."
   ]
  },
  {
   "cell_type": "code",
   "execution_count": 131,
   "metadata": {
    "collapsed": false
   },
   "outputs": [
    {
     "name": "stdout",
     "output_type": "stream",
     "text": [
      "Normally Distributed 5329\n",
      "Exponentially Distributed 11\n"
     ]
    },
    {
     "name": "stderr",
     "output_type": "stream",
     "text": [
      "/Library/Frameworks/Python.framework/Versions/3.6/lib/python3.6/site-packages/ipykernel_launcher.py:2: SettingWithCopyWarning: \n",
      "A value is trying to be set on a copy of a slice from a DataFrame.\n",
      "Try using .loc[row_indexer,col_indexer] = value instead\n",
      "\n",
      "See the caveats in the documentation: http://pandas.pydata.org/pandas-docs/stable/indexing.html#indexing-view-versus-copy\n",
      "  \n"
     ]
    }
   ],
   "source": [
    "import pomegranate as pom\n",
    "mountain_view[\"yearly_wages\"] = mountain_view[\"yearly_wages\"].astype(float)\n",
    "yearly_wages_mv = [[elem] for elem in mountain_view[\"yearly_wages\"]]\n",
    "model_mv = pom.GeneralMixtureModel.from_samples(\n",
    "    [pom.NormalDistribution, pom.ExponentialDistribution],\n",
    "    n_components=2, X=yearly_wages)\n",
    "labels = model_mv.predict(yearly_wages)\n",
    "label_mapping = [\"Normally Distributed\", \"Exponentially Distributed\"]\n",
    "for elem in zip(set(labels), np.bincount(labels)):\n",
    "    print(label_mapping[elem[0]], elem[1])"
   ]
  },
  {
   "cell_type": "code",
   "execution_count": 130,
   "metadata": {
    "collapsed": false
   },
   "outputs": [
    {
     "data": {
      "text/plain": [
       "5340"
      ]
     },
     "execution_count": 130,
     "metadata": {},
     "output_type": "execute_result"
    }
   ],
   "source": [
    "len(mountain_view[\"yearly_wages\"])"
   ]
  },
  {
   "cell_type": "markdown",
   "metadata": {},
   "source": [
    "So we've discovered a few interesting, althought not totally surprising things - one there are far more data points across NYC, as apposed to Mountain View.  Additionally, the data is mostly normally distributed like New York City.  Let's visually and textually explore the data further!"
   ]
  },
  {
   "cell_type": "code",
   "execution_count": 133,
   "metadata": {
    "collapsed": false
   },
   "outputs": [
    {
     "name": "stdout",
     "output_type": "stream",
     "text": [
      "The first model is normally distributed\n",
      "The first model's mean is 112414.21819067112\n",
      "The first model's stardard deviation is 30061.09757077789\n",
      "\n",
      "The second model is exponentially distributed\n",
      "The second model's mean is 114508693.70532353\n",
      "The second model's standard deviation is 114508693.70532353\n",
      "Overall yearly wages center 110000.0\n",
      "Overall yearly wages spread 70000.0\n"
     ]
    }
   ],
   "source": [
    "mu, std = model_mv.distributions[0].parameters\n",
    "Lambda = model_mv.distributions[1].parameters[0]\n",
    "print(\"The first model is normally distributed\")\n",
    "print(\"The first model's mean is\", mu)\n",
    "print(\"The first model's stardard deviation is\", std)\n",
    "print()\n",
    "print(\"The second model is exponentially distributed\")\n",
    "print(\"The second model's mean is\", 1/Lambda)\n",
    "print(\"The second model's standard deviation is\", 1/Lambda)\n",
    "print(\"Overall yearly wages center\", mountain_view[\"yearly_wages\"].median())\n",
    "print(\"Overall yearly wages spread\", mountain_view[\"yearly_wages\"].quantile(.75) - nyc[\"yearly_wages\"].quantile(.25))"
   ]
  },
  {
   "cell_type": "markdown",
   "metadata": {},
   "source": [
    "Let's look at New York City and Mountain View side by side:\n",
    "\n",
    "NYC\n",
    "\n",
    "```\n",
    "The first model is normally distributed\n",
    "The first model's mean is 86205.77544713496\n",
    "The first model's stardard deviation is 37785.587825405746\n",
    "\n",
    "The second model is exponentially distributed\n",
    "The second model's mean is 4679806.930660747\n",
    "The second model's standard deviation is 4679806.930660747\n",
    "Overall yearly wages center 75000.0\n",
    "Overall yearly wages spread 46400.0\n",
    "```\n",
    "\n",
    "Mountain View\n",
    "\n",
    "```\n",
    "The first model is normally distributed\n",
    "The first model's mean is 112414.21819067112\n",
    "The first model's stardard deviation is 30061.09757077789\n",
    "\n",
    "The second model is exponentially distributed\n",
    "The second model's mean is 114508693.70532353\n",
    "The second model's standard deviation is 114508693.70532353\n",
    "Overall yearly wages center 110000.0\n",
    "Overall yearly wages spread 70000.0\n",
    "```\n",
    "\n",
    "So we can see that for both distributions, New York City is lower in terms of average salary.  This is also true overall.  While this may seem like a surprising result, if you consider the relative size of the two datasets as well as the housing situation in both areas things start to make sense.\n",
    "\n",
    "Let's first reminder ourselves of the size of New York City and Mountain View H1B visas:"
   ]
  },
  {
   "cell_type": "code",
   "execution_count": 135,
   "metadata": {
    "collapsed": false
   },
   "outputs": [
    {
     "data": {
      "text/plain": [
       "(37499, 5340, 7.022284644194756)"
      ]
     },
     "execution_count": 135,
     "metadata": {},
     "output_type": "execute_result"
    }
   ],
   "source": [
    "len(nyc), len(mountain_view), len(nyc) / len(mountain_view)"
   ]
  },
  {
   "cell_type": "markdown",
   "metadata": {},
   "source": [
    "So nyc is approximately 7 times larger than mountain view in the number of applications.  So we can conclude at least some of the difference hear is _because_ while top tech talent is certainly going to mountain view, a lot of equivalent folks are also going to nyc.  It's just that folks at a lower skill level are also going to nyc.  The market is nyc is bigger, so it has more variability, but doesn't skew as strongly to higher salaries.  \n",
    "\n",
    "So why is this happening?  My belief at this is due to cost of living.  San Francisco generally has a housing crisis and Mountain View is certainly part of that.  They are over saturated, so rents are very, very high.  Therefore, if you want to hire someone you have to pay them enough to make it worth while.  In terms of order of magnitude, NYC and Mountain View are more or less on par, but the carrying capacity of Mountain View is much lower.  \n",
    "\n",
    "To show that these distributions are similar overall, we make use of the mann whitney U-Test, which checks if two distributions are similar."
   ]
  },
  {
   "cell_type": "code",
   "execution_count": 138,
   "metadata": {
    "collapsed": false
   },
   "outputs": [
    {
     "data": {
      "text/plain": [
       "MannwhitneyuResult(statistic=54381812.0, pvalue=0.0)"
      ]
     },
     "execution_count": 138,
     "metadata": {},
     "output_type": "execute_result"
    }
   ],
   "source": [
    "from scipy import stats\n",
    "\n",
    "stats.mannwhitneyu(nyc[\"yearly_wages\"], mountain_view[\"yearly_wages\"])"
   ]
  },
  {
   "cell_type": "markdown",
   "metadata": {},
   "source": [
    "As we can see, we reject the null hypothesis and therefore, the distributions are the same!  So the obvious question - why are the distributions the same?  I think that Mountain View is strongly a technology ecosystem and New York is becoming more and more technology focused."
   ]
  },
  {
   "cell_type": "markdown",
   "metadata": {
    "collapsed": true
   },
   "source": [
    "## Question Three \n",
    "\n",
    "Problem Definition:\n",
    "\n",
    "For NYC, what is the relationship between the total number of H­1B visas requested by an employer and the average wages proposed? Visually represent this relationship if appropriate. Is the relationship statistically significant? What might explain this relationship?\n",
    "\n",
    "Breaking this down a bit - The variables of interest are:\n",
    "\n",
    "* The total number of H1B visas requested by an employer\n",
    "* The average wages for that employer\n",
    "\n",
    "Task: Visually represent this relationship\n",
    "\n",
    "Question: Is the relationship statistically significant?\n",
    "\n",
    "If you recall from part one, company names are not consistent across the companies.  So company X might have 5 or even 10 different names, that all refer semantically to the same company.  Earlier we solved this with hard coding the names of these companies.  But now, we'll need a general way to map company names to a canonical form, so that we can assess this relationship in general, rather than for a specific company.\n",
    "\n",
    "In the past I tried finding a single word that mapped a company name semantically.  A good example of a type of company this works for is Barclays.  If the name Barclays appears in the company name, we can be reasonably sure they are the same company.  However, finding the one general word that corresponds semantically in general proved elusive.  So now I will take on a different tact.\n"
   ]
  },
  {
   "cell_type": "code",
   "execution_count": 9,
   "metadata": {
    "collapsed": false
   },
   "outputs": [
    {
     "data": {
      "text/plain": [
       "3.662727095135769"
      ]
     },
     "execution_count": 9,
     "metadata": {},
     "output_type": "execute_result"
    }
   ],
   "source": [
    "len(nyc) / len(nyc[\"lca_case_employer_name\"].unique())"
   ]
  },
  {
   "cell_type": "markdown",
   "metadata": {},
   "source": [
    "Our first win comes from just looking at the unique employer names.  We can reduce the number of businesses we need to classify by approximate 3.66 fold, just by looking at only unique names!"
   ]
  },
  {
   "cell_type": "code",
   "execution_count": 77,
   "metadata": {
    "collapsed": true
   },
   "outputs": [],
   "source": [
    "from collections import OrderedDict\n",
    "h1b_nyc = nyc[nyc[\"visa_class\"] == \"H-1B\"]\n",
    "employers = list(h1b_nyc[\"lca_case_employer_name\"].unique())\n",
    "value_counts = {}.fromkeys(employers, 0)\n",
    "for employer in employers:\n",
    "    tmp_df = h1b_nyc[h1b_nyc[\"lca_case_employer_name\"] == employer]\n",
    "    for index in tmp_df.index:\n",
    "        value_counts[employer] += tmp_df.ix[index][\"total_workers\"]\n",
    "value_counts = OrderedDict(sorted(value_counts.items(), key=lambda t: t[1], reverse=True))"
   ]
  },
  {
   "cell_type": "code",
   "execution_count": 78,
   "metadata": {
    "collapsed": false
   },
   "outputs": [
    {
     "data": {
      "text/plain": [
       "8899"
      ]
     },
     "execution_count": 78,
     "metadata": {},
     "output_type": "execute_result"
    }
   ],
   "source": [
    "true_counts = {\n",
    "    \"PRICEWATERHOUSECOOPERS\": 0,\n",
    "    \"MPHASIS\": 0,\n",
    "    \"ERNST & YOUNG\": 0,\n",
    "    \"TATA\": 0,\n",
    "    \"CHASE\": 0,\n",
    "    \"INFOSYS\": 0,\n",
    "    \"MORGAN STANLEY\": 0, \n",
    "    \"GOLDMAN\": 0,\n",
    "    \"DELOITTE\": 0,\n",
    "    \"BLOOMBERG\": 0,\n",
    "    \"CREDIT SUISSE\": 0,\n",
    "    \"CITI\": 0,\n",
    "    \"COLUMBIA UNIVERSITY\": 0,\n",
    "    \"GOOGLE\": 0,\n",
    "    \"WIPRO\": 0,\n",
    "    \"LARSEN & TOUBRO\": 0,\n",
    "    \"BARCLAYS\": 0,\n",
    "    \"MOUNT SINAI\": 0,\n",
    "    \"CAPGEMINI\": 0,\n",
    "    \"KPMG\": 0, \n",
    "    \"DEUTSCHE\": 0,\n",
    "    \"MEMORIAL SLOAN-KETTERING\": 0,\n",
    "    \"NEW YORK UNIVERSITY\": 0,\n",
    "    \"HEADSTRONG\": 0,\n",
    "    \"BANK OF AMERICA\": 0,\n",
    "    \"IGATE\": 0,\n",
    "    \"BLACKROCK\": 0,\n",
    "    \"ACCENTURE\": 0,\n",
    "    \"MERRILL LYNCH\": 0,\n",
    "    \"CORNELL\": 0,\n",
    "    \"ST. BARNABAS\": 0,\n",
    "    \"MONTEFIORE\": 0,\n",
    "    \"UBS\": 0,\n",
    "    \"BRONX-LEBANON\": 0,\n",
    "    \"NEW YORK CITY DEPARTMENT OF EDUCATION\": 0,\n",
    "    \"GRANDISON\": 0,\n",
    "    \"BILINGUALS\": 0,\n",
    "    \"MINDTREE\": 0,\n",
    "    \"RBC\": 0,\n",
    "    \"POLARIS\": 0,\n",
    "    \"ITNEWTON\": 0,\n",
    "    \"SYNTEL\": 0,\n",
    "    \"CSC COVANSYS\": 0,\n",
    "    \"HCL\": 0,\n",
    "    \"BOSTON\": 0,\n",
    "    \"EXECU|SEARCH\": 0,\n",
    "    \"MCKINSEY\": 0,\n",
    "    \"BIRLASOFT\": 0,\n",
    "    \"IDEO\": 0,\n",
    "    \"JEFFERIES\": 0,\n",
    "    \"NESS\": 0,\n",
    "    \"RCM\": 0,\n",
    "    \"ZS\": 0,\n",
    "    \"FUJITSU\": 0,\n",
    "    \"ORACLE\": 0\n",
    "}\n",
    "\n",
    "employers_excluded = []\n",
    "for employer in value_counts:\n",
    "    for true_employer in true_counts:\n",
    "        if true_employer in employer:\n",
    "            employers_excluded.append(employer)\n",
    "            true_counts[true_employer] += value_counts[employer]\n",
    "for employer in value_counts:\n",
    "    if employer not in employers_excluded:\n",
    "        true_counts[employer] = value_counts[employer]\n",
    "true_counts = OrderedDict(sorted(true_counts.items(), key=lambda t: t[1], reverse=True))\n",
    "len(true_counts)"
   ]
  },
  {
   "cell_type": "code",
   "execution_count": 79,
   "metadata": {
    "collapsed": false
   },
   "outputs": [
    {
     "data": {
      "text/plain": [
       "1126"
      ]
     },
     "execution_count": 79,
     "metadata": {},
     "output_type": "execute_result"
    }
   ],
   "source": [
    "from fuzzywuzzy import fuzz\n",
    "counts = 0\n",
    "pairs = []\n",
    "employers = list(true_counts.keys())\n",
    "for index, employer in enumerate(employers):\n",
    "    tmp = employers[:index] + employers[index+1:]\n",
    "    for elem in tmp:\n",
    "        if fuzz.ratio(elem, employer) > 95:\n",
    "            counts += 1\n",
    "            pairs.append((elem, employer))\n",
    "counts"
   ]
  },
  {
   "cell_type": "markdown",
   "metadata": {},
   "source": [
    "So it looks like 1126 of these company names are likely just misspellings of one another and so can be collapsed into one another!  There might be more optimizations than this, but in the interest of time, I won't pursue them.  \n",
    "\n",
    "Another reason I believe this level of optimization to be defensible - smaller businesses are less likely to have multiple company names.  I'm assuming that the size of the business is related to the number of H1B visas the company requests.  Therefore if the company size is small, there is likely only one semantic name for the company.  \n",
    "\n",
    "So, if we account for spelling errors, which is what I'm hoping the fuzzy matching accounts for, then we should have no semantic company names appearing twice.  Let's verify that our fuzzy matching only produces misspellings of the same name by looking at some cases."
   ]
  },
  {
   "cell_type": "code",
   "execution_count": 35,
   "metadata": {
    "collapsed": false
   },
   "outputs": [
    {
     "data": {
      "text/plain": [
       "[('SG AMERICAS SECURITIES LLC', 'SG AMERICAS SECURITIES, LLC'),\n",
       " ('SG AMERICAS SECURITES, LLC', 'SG AMERICAS SECURITIES, LLC'),\n",
       " ('THE VERITAS HEALTHCARE SOLUTIONS LLC',\n",
       "  'THE VERITAS HEALTHCARE SOLUTIONS, LLC'),\n",
       " ('THOMSON REUTERS MARKETS LLC', 'THOMSON REUTERS (MARKETS) LLC'),\n",
       " ('TECH MAHINDRA (AMERICAS), INC.', 'TECH MAHINDRA ( AMERICAS), INC'),\n",
       " (\"STANDARD &POOR'S FINANCIAL SERVICES LLC\",\n",
       "  \"STANDARD & POOR'S FINANCIAL SERVICES LLC\"),\n",
       " (\"STANDARD POOR'S FINANCIAL SERVICES LLC\",\n",
       "  \"STANDARD & POOR'S FINANCIAL SERVICES LLC\"),\n",
       " ('TECH MAHINDRA ( AMERICAS), INC', 'TECH MAHINDRA (AMERICAS), INC.'),\n",
       " ('TECH MAHINDRA (AMERICAS) INC.', 'TECH MAHINDRA (AMERICAS), INC.'),\n",
       " ('TECH MAHINDRA (AMERICAS),INC.', 'TECH MAHINDRA (AMERICAS), INC.'),\n",
       " ('TECH MAHINDRA (AMERICAS), INC.', 'TECH MAHINDRA (AMERICAS) INC.'),\n",
       " ('TECH MAHINDRA (AMERICAS),INC.', 'TECH MAHINDRA (AMERICAS) INC.'),\n",
       " ('D.E. SHAW & CO., L.P.', 'D. E. SHAW & CO., L.P.'),\n",
       " ('PRIME HEALTHCARE SERVICES, INC.', 'PRIME HEALTHCARE SERVICES INC'),\n",
       " ('SAGITEC SOLUTIONS LLC', 'SAGITEC SOLUTIONS, LLC'),\n",
       " ('GLOBAL APPLICATIONS SOLUTION LLC', 'GLOBAL APPLICATIONS SOLUTION, LLC'),\n",
       " ('GLOBAL APPLICATIONS SOLUTIONS, LLC', 'GLOBAL APPLICATIONS SOLUTION, LLC'),\n",
       " (\"ST. LUKE'S-ROOSELVELT HOSPITAL CENTER\",\n",
       "  \"ST. LUKE'S-ROOSEVELT HOSPITAL CENTER\"),\n",
       " (\"ST, LUKE'S-ROOSEVELT HOSPITAL CENTER\",\n",
       "  \"ST. LUKE'S-ROOSEVELT HOSPITAL CENTER\"),\n",
       " (\"ST. LUKE'S ROOSEVELT HOSPITAL CENTER\",\n",
       "  \"ST. LUKE'S-ROOSEVELT HOSPITAL CENTER\"),\n",
       " ('NYCHHC - LINCOLN MEDICAL AND MENTAL HEALTH CENTER',\n",
       "  'NYC-HHC LINCOLN MEDICAL AND MENTAL HEALTH CENTER'),\n",
       " ('NYC-HHC LINCOLN MEDICAL & MENTAL HEALTH CENTER',\n",
       "  'NYC-HHC LINCOLN MEDICAL AND MENTAL HEALTH CENTER'),\n",
       " ('ACTIMIZE, INC.', 'ACTIMIZE INC.'),\n",
       " ('FINSOFT CONSULTANTS INC.', 'FINSOFT CONSULTANTS, INC.'),\n",
       " (\"ST. LUKE'S-ROOSEVELT HOSPITAL CENTER\",\n",
       "  \"ST. LUKE'S-ROOSELVELT HOSPITAL CENTER\"),\n",
       " (\"ST, LUKE'S-ROOSEVELT HOSPITAL CENTER\",\n",
       "  \"ST. LUKE'S-ROOSELVELT HOSPITAL CENTER\"),\n",
       " (\"ST. LUKE'S ROOSEVELT HOSPITAL CENTER\",\n",
       "  \"ST. LUKE'S-ROOSELVELT HOSPITAL CENTER\"),\n",
       " ('SKIDMORE, OWINGS & MERRILL LLP', 'SKIDMORE, OWINGS & MERRILL, LLP'),\n",
       " ('ORION SYSTEMS INTEGRATORS, INC.', 'ORION SYSTEMS INTEGRATORS, INC'),\n",
       " ('SATYAM COMPUTER SERVICES LTD.', 'SATYAM COMPUTER SERVICES LTD'),\n",
       " ('TWITTER, INC', 'TWITTER, INC.'),\n",
       " ('EVERYDAY HEALTH MEDIA LLC', 'EVERYDAY HEALTH MEDIA, LLC'),\n",
       " ('BLUECREST CAPITAL MANAGEMENT (NEW YORK), L.P.',\n",
       "  'BLUECREST CAPITAL MANAGEMENT (NEW YORK) LP'),\n",
       " ('NTT DATA, INC', 'NTT DATA, INC.'),\n",
       " ('TECH MAHINDRA (AMERICAS), INC.', 'TECH MAHINDRA (AMERICAS),INC.'),\n",
       " ('TECH MAHINDRA (AMERICAS) INC.', 'TECH MAHINDRA (AMERICAS),INC.'),\n",
       " ('DIASPARK, INC', 'DIASPARK, INC.'),\n",
       " ('MEDIDATA SOLUTIONS, INC', 'MEDIDATA SOLUTIONS, INC.'),\n",
       " ('RAZORFISH LLC', 'RAZORFISH, LLC'),\n",
       " ('ST MARKS WORLD INC.', 'ST. MARKS WORLD INC.'),\n",
       " ('ST. MARKS WORLD INC', 'ST. MARKS WORLD INC.'),\n",
       " ('CANTOR FITZGERALD LP', 'CANTOR FITZGERALD, LP'),\n",
       " ('J. CREW GROUP INC.', 'J. CREW GROUP, INC.'),\n",
       " ('VIACOM INTERNATIONAL INC.', 'VIACOM INTERNATIONAL, INC.'),\n",
       " ('INTERFYSIO, LLC', 'INTERFYSIO LLC'),\n",
       " ('PHYSICIAN AFFILIATE GROUP OF NEW YORK, PC',\n",
       "  'PHYSICIAN AFFILIATE GROUP OF NEW YORK, P.C.'),\n",
       " ('KAPLAN TEST PREP (KAPLAN INC.)', 'KAPLAN TEST PREP (KAPLAN, INC.)'),\n",
       " ('MUREX NORTH AMERICA, INC.', 'MUREX NORTH AMERICA INC.'),\n",
       " ('3EGEUSAGROUP LLC', '3EDGEUSAGROUP LLC'),\n",
       " ('3DGEUSAGROUP LLC', '3EDGEUSAGROUP LLC'),\n",
       " ('FINSOFT CONSULTANTS, INC.', 'FINSOFT CONSULTANTS INC.'),\n",
       " ('TECHNOFINA SERVICES, INC', 'TECHNOFINA SERVICES, INC.'),\n",
       " ('NYCHHC - METROPOLITAN HOSPITAL CENTER',\n",
       "  'NYC-HHC METROPOLITAN HOSPITAL CENTER'),\n",
       " ('LEARNINGMATE SOLUTIONS, INC.', 'LEARNINGMATE SOLUTIONS, INC'),\n",
       " ('INTERACTIVE DATA PRICING &AMP; REFERENCE DATA INC.',\n",
       "  'INTERACTIVE DATA PRICING & REFERENCE DATA INC.'),\n",
       " ('INTERACTIVE DATA PRICING & REFERENCE DATA, INC.',\n",
       "  'INTERACTIVE DATA PRICING & REFERENCE DATA INC.'),\n",
       " ('RN EXPRESS STAFFING REGISTRY, LLC', 'RN EXPRESS STAFFING REGISTRY LLC'),\n",
       " ('MEDICAL DYNAMIC SYSTEMS INC.', 'MEDICAL DYNAMIC SYSTEMS, INC.'),\n",
       " ('INFORMATION BUILDERS, INC.', 'INFORMATION BUILDERS INC.'),\n",
       " ('3I INFOTECH, INC', '3I INFOTECH, INC.'),\n",
       " ('SOFTTECH SOURCE', 'SOFT TECH SOURCE'),\n",
       " ('AXIOM SOFTWARE LABOARATORIES, INC', 'AXIOM SOFTWARE LABORATORIES INC'),\n",
       " ('AXIOM SOFTWARE LABORATORIES, INC', 'AXIOM SOFTWARE LABORATORIES INC'),\n",
       " ('AIT GLOBAL, INC.', 'AIT GLOBAL, INC'),\n",
       " ('THE LEVY GROUP INC.', 'THE LEVY GROUP, INC.'),\n",
       " ('GROUPM WORLDWIDE, LLC', 'GROUPM WORLDWIDE LLC'),\n",
       " ('TRIANZ CONSULTING INC.', 'TRIANZ CONSULTING, INC.'),\n",
       " ('DIASPARK, INC', 'DIASPARK INC'),\n",
       " ('MARSH USA, INC.', 'MARSH USA INC.'),\n",
       " ('HANDEL ARCHITECTS LLP.', 'HANDEL ARCHITECTS LLP'),\n",
       " ('NYC-HHC LINCOLN MEDICAL AND MENTAL HEALTH CENTER',\n",
       "  'NYCHHC - LINCOLN MEDICAL AND MENTAL HEALTH CENTER'),\n",
       " ('TRANSPERFECT TRANSLATIONS INTERNATIONAL, INC.',\n",
       "  'TRANSPERFECT TRANSLATIONS INTERNATIONAL INC.'),\n",
       " ('VIACOM INTERNATIONAL, INC.', 'VIACOM INTERNATIONAL INC.'),\n",
       " ('CHINESE CHRISTIAN HERALD CRUSADES, INC',\n",
       "  'CHINESE CHRISTIAN HERALD CRUSADES, INC.'),\n",
       " ('CHINESE CHRISTIAN HERALD CRUSADES INC.',\n",
       "  'CHINESE CHRISTIAN HERALD CRUSADES, INC.'),\n",
       " ('CIGITAL, INC', 'CIGITAL, INC.'),\n",
       " ('DIASPARK, INC.', 'DIASPARK, INC'),\n",
       " ('DIASPARK INC', 'DIASPARK, INC'),\n",
       " ('GLOBAL APPLICATIONS SOLUTION, LLC', 'GLOBAL APPLICATIONS SOLUTION LLC'),\n",
       " ('GLOBAL APPLICATIONS SOLUTIONS, LLC', 'GLOBAL APPLICATIONS SOLUTION LLC'),\n",
       " ('INFOCEPTS, LLC', 'INFOCEPTS LLC'),\n",
       " ('FUSION PLUS SOLUTIONS INC', 'FUSION PLUS SOLUTIONS, INC'),\n",
       " ('FUSION PLUS SOLUTIONS,INC', 'FUSION PLUS SOLUTIONS, INC'),\n",
       " ('TANISHA SYSTEMS, INC', 'TANISHA SYSTEMS INC'),\n",
       " ('TANISHA SYSTEMS INC.', 'TANISHA SYSTEMS INC'),\n",
       " ('ELC MANAGEMENT, LLC', 'ELC MANAGEMENT LLC'),\n",
       " ('STELLAR SERVICES, INC', 'STELLAR SERVICES, INC.'),\n",
       " ('ST. MARKS WORLD INC.', 'ST MARKS WORLD INC.'),\n",
       " ('ESSEN MEDICAL ASSOCIATES PC', 'ESSEN MEDICAL ASSOCIATES, PC'),\n",
       " ('PACIFIC GLOBAL ADVISORS LLC.', 'PACIFIC GLOBAL ADVISORS LLC'),\n",
       " ('RAMPS INTERNATIONAL INC.', 'RAMPS INTERNATIONAL, INC'),\n",
       " ('INSTRUMENTAL SERVICES INC.', 'INSTRUMENTAL SERVICES, INC.'),\n",
       " ('ALLTECH CONSULTING SERVICES INC.', 'ALLTECH CONSULTING SERVICES INC'),\n",
       " ('KIRKLAND & ELLIS, LLP', 'KIRKLAND & ELLIS LLP'),\n",
       " ('ENNEAD ARCHITETS LLP', 'ENNEAD ARCHITECTS LLP'),\n",
       " ('MIO PARTNERS INC.', 'MIO PARTNERS, INC.'),\n",
       " ('TOWERS WATSON PENNSYLVANIA, INC.', 'TOWERS WATSON PENNSYLVANIA INC.'),\n",
       " ('AMERICAN EDUCATION CENTER, INC.', 'AMERICAN EDUCATION CENTER, INC'),\n",
       " ('ITRACE FOUNDATION INC.', 'ITRACE FOUNDATION, INC.'),\n",
       " ('EVERCORE PARTNERS SERVICES EAST LLC',\n",
       "  'EVERCORE PARTNERS SERVICES EAST, LLC')]"
      ]
     },
     "execution_count": 35,
     "metadata": {},
     "output_type": "execute_result"
    }
   ],
   "source": [
    "pairs[:100]"
   ]
  },
  {
   "cell_type": "markdown",
   "metadata": {},
   "source": [
    "Visually inspecting the first hundred pairs feels pretty convincing to me.  I think this gives us a pretty good second set!  Alright, so now all we need to do is map the true counts of the pairs and then we'll have a good representation of the total number visas per employer.  Then we'll be a good place to look at average salary!"
   ]
  },
  {
   "cell_type": "code",
   "execution_count": 80,
   "metadata": {
    "collapsed": true
   },
   "outputs": [],
   "source": [
    "seen_keys = []\n",
    "name_mapping = {}\n",
    "for pair in pairs:\n",
    "    if pair[0] in seen_keys:\n",
    "        name_mapping[pair[0]].append(pair[1])\n",
    "    else:\n",
    "        name_mapping[pair[0]] = [pair[1]]"
   ]
  },
  {
   "cell_type": "code",
   "execution_count": 81,
   "metadata": {
    "collapsed": false
   },
   "outputs": [
    {
     "data": {
      "text/plain": [
       "1087"
      ]
     },
     "execution_count": 81,
     "metadata": {},
     "output_type": "execute_result"
    }
   ],
   "source": [
    "true_counts = {\n",
    "    \"PRICEWATERHOUSECOOPERS\": 0,\n",
    "    \"MPHASIS\": 0,\n",
    "    \"ERNST & YOUNG\": 0,\n",
    "    \"TATA\": 0,\n",
    "    \"CHASE\": 0,\n",
    "    \"INFOSYS\": 0,\n",
    "    \"MORGAN STANLEY\": 0, \n",
    "    \"GOLDMAN\": 0,\n",
    "    \"DELOITTE\": 0,\n",
    "    \"BLOOMBERG\": 0,\n",
    "    \"CREDIT SUISSE\": 0,\n",
    "    \"CITI\": 0,\n",
    "    \"COLUMBIA UNIVERSITY\": 0,\n",
    "    \"GOOGLE\": 0,\n",
    "    \"WIPRO\": 0,\n",
    "    \"LARSEN & TOUBRO\": 0,\n",
    "    \"BARCLAYS\": 0,\n",
    "    \"MOUNT SINAI\": 0,\n",
    "    \"CAPGEMINI\": 0,\n",
    "    \"KPMG\": 0, \n",
    "    \"DEUTSCHE\": 0,\n",
    "    \"MEMORIAL SLOAN-KETTERING\": 0,\n",
    "    \"NEW YORK UNIVERSITY\": 0,\n",
    "    \"HEADSTRONG\": 0,\n",
    "    \"BANK OF AMERICA\": 0,\n",
    "    \"IGATE\": 0,\n",
    "    \"BLACKROCK\": 0,\n",
    "    \"ACCENTURE\": 0,\n",
    "    \"MERRILL LYNCH\": 0,\n",
    "    \"CORNELL\": 0,\n",
    "    \"ST. BARNABAS\": 0,\n",
    "    \"MONTEFIORE\": 0,\n",
    "    \"UBS\": 0,\n",
    "    \"BRONX-LEBANON\": 0,\n",
    "    \"NEW YORK CITY DEPARTMENT OF EDUCATION\": 0,\n",
    "    \"GRANDISON\": 0,\n",
    "    \"BILINGUALS\": 0,\n",
    "    \"MINDTREE\": 0,\n",
    "    \"RBC\": 0,\n",
    "    \"POLARIS\": 0,\n",
    "    \"ITNEWTON\": 0,\n",
    "    \"SYNTEL\": 0,\n",
    "    \"CSC COVANSYS\": 0,\n",
    "    \"HCL\": 0,\n",
    "    \"BOSTON\": 0,\n",
    "    \"EXECU|SEARCH\": 0,\n",
    "    \"MCKINSEY\": 0,\n",
    "    \"BIRLASOFT\": 0,\n",
    "    \"IDEO\": 0,\n",
    "    \"JEFFERIES\": 0,\n",
    "    \"NESS\": 0,\n",
    "    \"RCM\": 0,\n",
    "    \"ZS\": 0,\n",
    "    \"FUJITSU\": 0,\n",
    "    \"ORACLE\": 0\n",
    "}\n",
    "\n",
    "employers_excluded = []\n",
    "for employer in value_counts:\n",
    "    for true_employer in true_counts:\n",
    "        if true_employer in employer:\n",
    "            employers_excluded.append(employer)\n",
    "            true_counts[true_employer] += value_counts[employer]\n",
    "\n",
    "for employer in value_counts:\n",
    "    if employer not in employers_excluded:\n",
    "        if employer in name_mapping:\n",
    "            other_names = name_mapping[employer]\n",
    "            true_counts[employer] = value_counts[employer]\n",
    "            for other_name in other_names:\n",
    "                true_counts[employer] += value_counts[other_name]\n",
    "len(true_counts)"
   ]
  },
  {
   "cell_type": "markdown",
   "metadata": {},
   "source": [
    "Now all we need is to follow the same procedude for salaries and then we'll be set!"
   ]
  },
  {
   "cell_type": "code",
   "execution_count": 63,
   "metadata": {
    "collapsed": false
   },
   "outputs": [
    {
     "name": "stderr",
     "output_type": "stream",
     "text": [
      "/Library/Frameworks/Python.framework/Versions/3.6/lib/python3.6/site-packages/ipykernel_launcher.py:13: SettingWithCopyWarning: \n",
      "A value is trying to be set on a copy of a slice from a DataFrame.\n",
      "Try using .loc[row_indexer,col_indexer] = value instead\n",
      "\n",
      "See the caveats in the documentation: http://pandas.pydata.org/pandas-docs/stable/indexing.html#indexing-view-versus-copy\n",
      "  del sys.path[0]\n"
     ]
    }
   ],
   "source": [
    "from collections import OrderedDict\n",
    "def to_yearly_wages(x):\n",
    "    conversion_table = {\n",
    "        \"Hour\": 1920,\n",
    "        \"Year\": 1,\n",
    "        \"Week\": 48,\n",
    "        \"Month\": 11.25,\n",
    "        \"Bi-Weekly\": 24\n",
    "    }\n",
    "    return conversion_table[x[\"lca_case_wage_rate_unit\"]] * x[\"lca_case_wage_rate_from\"]\n",
    "\n",
    "h1b_nyc = nyc[nyc[\"visa_class\"] == \"H-1B\"]\n",
    "h1b_nyc[\"yearly_wages\"] = h1b_nyc.apply(to_yearly_wages, axis=1)\n",
    "employers = list(h1b_nyc[\"lca_case_employer_name\"].unique())\n",
    "value_wages = {}.fromkeys(employers, 0)\n",
    "for employer in employers:\n",
    "    tmp_df = h1b_nyc[h1b_nyc[\"lca_case_employer_name\"] == employer]\n",
    "    for index in tmp_df.index:\n",
    "        sum_of_wages = tmp_df.ix[index][\"yearly_wages\"] * tmp_df.ix[index][\"total_workers\"]\n",
    "        value_wages[employer] += sum_of_wages\n",
    "value_wages = OrderedDict(sorted(value_wages.items(), key=lambda t: t[1], reverse=True))"
   ]
  },
  {
   "cell_type": "code",
   "execution_count": null,
   "metadata": {
    "collapsed": true
   },
   "outputs": [],
   "source": []
  },
  {
   "cell_type": "code",
   "execution_count": 64,
   "metadata": {
    "collapsed": false
   },
   "outputs": [
    {
     "data": {
      "text/plain": [
       "8899"
      ]
     },
     "execution_count": 64,
     "metadata": {},
     "output_type": "execute_result"
    }
   ],
   "source": [
    "true_wages = {\n",
    "    \"PRICEWATERHOUSECOOPERS\": 0,\n",
    "    \"MPHASIS\": 0,\n",
    "    \"ERNST & YOUNG\": 0,\n",
    "    \"TATA\": 0,\n",
    "    \"CHASE\": 0,\n",
    "    \"INFOSYS\": 0,\n",
    "    \"MORGAN STANLEY\": 0, \n",
    "    \"GOLDMAN\": 0,\n",
    "    \"DELOITTE\": 0,\n",
    "    \"BLOOMBERG\": 0,\n",
    "    \"CREDIT SUISSE\": 0,\n",
    "    \"CITI\": 0,\n",
    "    \"COLUMBIA UNIVERSITY\": 0,\n",
    "    \"GOOGLE\": 0,\n",
    "    \"WIPRO\": 0,\n",
    "    \"LARSEN & TOUBRO\": 0,\n",
    "    \"BARCLAYS\": 0,\n",
    "    \"MOUNT SINAI\": 0,\n",
    "    \"CAPGEMINI\": 0,\n",
    "    \"KPMG\": 0, \n",
    "    \"DEUTSCHE\": 0,\n",
    "    \"MEMORIAL SLOAN-KETTERING\": 0,\n",
    "    \"NEW YORK UNIVERSITY\": 0,\n",
    "    \"HEADSTRONG\": 0,\n",
    "    \"BANK OF AMERICA\": 0,\n",
    "    \"IGATE\": 0,\n",
    "    \"BLACKROCK\": 0,\n",
    "    \"ACCENTURE\": 0,\n",
    "    \"MERRILL LYNCH\": 0,\n",
    "    \"CORNELL\": 0,\n",
    "    \"ST. BARNABAS\": 0,\n",
    "    \"MONTEFIORE\": 0,\n",
    "    \"UBS\": 0,\n",
    "    \"BRONX-LEBANON\": 0,\n",
    "    \"NEW YORK CITY DEPARTMENT OF EDUCATION\": 0,\n",
    "    \"GRANDISON\": 0,\n",
    "    \"BILINGUALS\": 0,\n",
    "    \"MINDTREE\": 0,\n",
    "    \"RBC\": 0,\n",
    "    \"POLARIS\": 0,\n",
    "    \"ITNEWTON\": 0,\n",
    "    \"SYNTEL\": 0,\n",
    "    \"CSC COVANSYS\": 0,\n",
    "    \"HCL\": 0,\n",
    "    \"BOSTON\": 0,\n",
    "    \"EXECU|SEARCH\": 0,\n",
    "    \"MCKINSEY\": 0,\n",
    "    \"BIRLASOFT\": 0,\n",
    "    \"IDEO\": 0,\n",
    "    \"JEFFERIES\": 0,\n",
    "    \"NESS\": 0,\n",
    "    \"RCM\": 0,\n",
    "    \"ZS\": 0,\n",
    "    \"FUJITSU\": 0,\n",
    "    \"ORACLE\": 0\n",
    "}\n",
    "\n",
    "employers_excluded = []\n",
    "for employer in value_wages:\n",
    "    for true_employer in true_wages:\n",
    "        if true_employer in employer:\n",
    "            employers_excluded.append(employer)\n",
    "            true_wages[true_employer] += value_wages[employer]\n",
    "for employer in value_wages:\n",
    "    if employer not in employers_excluded:\n",
    "        true_wages[employer] = value_wages[employer]\n",
    "true_wages = OrderedDict(sorted(true_wages.items(), key=lambda t: t[1], reverse=True))\n",
    "len(true_wages)"
   ]
  },
  {
   "cell_type": "code",
   "execution_count": 65,
   "metadata": {
    "collapsed": false
   },
   "outputs": [
    {
     "data": {
      "text/plain": [
       "1126"
      ]
     },
     "execution_count": 65,
     "metadata": {},
     "output_type": "execute_result"
    }
   ],
   "source": [
    "from fuzzywuzzy import fuzz\n",
    "counts = 0\n",
    "pairs = []\n",
    "employers = list(true_wages.keys())\n",
    "for index, employer in enumerate(employers):\n",
    "    tmp = employers[:index] + employers[index+1:]\n",
    "    for elem in tmp:\n",
    "        if fuzz.ratio(elem, employer) > 95:\n",
    "            counts += 1\n",
    "            pairs.append((elem, employer))\n",
    "counts"
   ]
  },
  {
   "cell_type": "code",
   "execution_count": 67,
   "metadata": {
    "collapsed": false
   },
   "outputs": [
    {
     "data": {
      "text/plain": [
       "1087"
      ]
     },
     "execution_count": 67,
     "metadata": {},
     "output_type": "execute_result"
    }
   ],
   "source": [
    "true_wages = {\n",
    "    \"PRICEWATERHOUSECOOPERS\": 0,\n",
    "    \"MPHASIS\": 0,\n",
    "    \"ERNST & YOUNG\": 0,\n",
    "    \"TATA\": 0,\n",
    "    \"CHASE\": 0,\n",
    "    \"INFOSYS\": 0,\n",
    "    \"MORGAN STANLEY\": 0, \n",
    "    \"GOLDMAN\": 0,\n",
    "    \"DELOITTE\": 0,\n",
    "    \"BLOOMBERG\": 0,\n",
    "    \"CREDIT SUISSE\": 0,\n",
    "    \"CITI\": 0,\n",
    "    \"COLUMBIA UNIVERSITY\": 0,\n",
    "    \"GOOGLE\": 0,\n",
    "    \"WIPRO\": 0,\n",
    "    \"LARSEN & TOUBRO\": 0,\n",
    "    \"BARCLAYS\": 0,\n",
    "    \"MOUNT SINAI\": 0,\n",
    "    \"CAPGEMINI\": 0,\n",
    "    \"KPMG\": 0, \n",
    "    \"DEUTSCHE\": 0,\n",
    "    \"MEMORIAL SLOAN-KETTERING\": 0,\n",
    "    \"NEW YORK UNIVERSITY\": 0,\n",
    "    \"HEADSTRONG\": 0,\n",
    "    \"BANK OF AMERICA\": 0,\n",
    "    \"IGATE\": 0,\n",
    "    \"BLACKROCK\": 0,\n",
    "    \"ACCENTURE\": 0,\n",
    "    \"MERRILL LYNCH\": 0,\n",
    "    \"CORNELL\": 0,\n",
    "    \"ST. BARNABAS\": 0,\n",
    "    \"MONTEFIORE\": 0,\n",
    "    \"UBS\": 0,\n",
    "    \"BRONX-LEBANON\": 0,\n",
    "    \"NEW YORK CITY DEPARTMENT OF EDUCATION\": 0,\n",
    "    \"GRANDISON\": 0,\n",
    "    \"BILINGUALS\": 0,\n",
    "    \"MINDTREE\": 0,\n",
    "    \"RBC\": 0,\n",
    "    \"POLARIS\": 0,\n",
    "    \"ITNEWTON\": 0,\n",
    "    \"SYNTEL\": 0,\n",
    "    \"CSC COVANSYS\": 0,\n",
    "    \"HCL\": 0,\n",
    "    \"BOSTON\": 0,\n",
    "    \"EXECU|SEARCH\": 0,\n",
    "    \"MCKINSEY\": 0,\n",
    "    \"BIRLASOFT\": 0,\n",
    "    \"IDEO\": 0,\n",
    "    \"JEFFERIES\": 0,\n",
    "    \"NESS\": 0,\n",
    "    \"RCM\": 0,\n",
    "    \"ZS\": 0,\n",
    "    \"FUJITSU\": 0,\n",
    "    \"ORACLE\": 0\n",
    "}\n",
    "\n",
    "employers_excluded = []\n",
    "for employer in value_wages:\n",
    "    for true_employer in true_wages:\n",
    "        if true_employer in employer:\n",
    "            employers_excluded.append(employer)\n",
    "            true_wages[true_employer] += value_wages[employer]\n",
    "\n",
    "for employer in value_wages:\n",
    "    if employer not in employers_excluded:\n",
    "        if employer in name_mapping:\n",
    "            other_names = name_mapping[employer]\n",
    "            true_wages[employer] = value_wages[employer]\n",
    "            for other_name in other_names:\n",
    "                true_wages[employer] += value_wages[other_name]\n",
    "len(true_wages)"
   ]
  },
  {
   "cell_type": "markdown",
   "metadata": {},
   "source": [
    "Okay! So we have wages per employer!  Additionally we have the total number of H1B visas per employer.  Let's look at the relationship between our two variables!\n",
    "\n",
    "Let's start by creating two lists, indexed by company name.  "
   ]
  },
  {
   "cell_type": "code",
   "execution_count": 98,
   "metadata": {
    "collapsed": false
   },
   "outputs": [
    {
     "data": {
      "text/plain": [
       "(0.38334012597028128, 2.2490912071152001e-39)"
      ]
     },
     "execution_count": 98,
     "metadata": {},
     "output_type": "execute_result"
    }
   ],
   "source": [
    "from scipy import stats\n",
    "wages = []\n",
    "counts = []\n",
    "for company in average_wages:\n",
    "    wages.append(true_wages[company])\n",
    "    counts.append(true_counts[company])\n",
    "stats.pearsonr(wages, counts)"
   ]
  },
  {
   "cell_type": "markdown",
   "metadata": {},
   "source": [
    "We clearly see a statistically significant relationship here, the pvalue is far below the 0.05 cut off value.  So we can say the correlation is statistically significant and positive."
   ]
  },
  {
   "cell_type": "code",
   "execution_count": 99,
   "metadata": {
    "collapsed": false
   },
   "outputs": [
    {
     "data": {
      "image/png": "[encoded data removed]",
      "text/plain": [
       "<matplotlib.figure.Figure at 0x10e3c7e10>"
      ]
     },
     "metadata": {},
     "output_type": "display_data"
    }
   ],
   "source": [
    "plt.scatter(wages, counts)\n",
    "plt.show()"
   ]
  },
  {
   "cell_type": "markdown",
   "metadata": {},
   "source": [
    "There is a clear and positive relationship between wages and the number of H1B visas requested!  Filling H1B visas costs money - according to this source: https://www.upcounsel.com/blog/what-is-the-costs-for-an-employer-to-sponsor-an-h1b-visa it's about $5000 per application.  So the companies with the biggest wallets will be the most likely to hire purely based on talent and not consider cost.  They can afford to pay more for employees.  They also have the highest possible carrying capacity of employees - some companies, especially those which are more sensitive to cost per employee, are likely to have low carry capacity.  Formally, I define carrying capacity as how many new hires a company can take on and continue to function.  So if a firm is able to sustain a large workforce over the medium term, then we say it has a high or large carrying capacity.\n",
    "\n",
    "Additionally, this means they are likely to pay more, since they are optimizing for the highest number of talented candidates.  A part of being able to pay more in fees is probably also being able to afford to pay very high salaries.  After all, those with H1B visas are considering, in theory, every company in the world.  So the salary would need to be high, to attract those candidates.  \n",
    "\n",
    "So this positive relationship makes sense.  "
   ]
  },
  {
   "cell_type": "code",
   "execution_count": 100,
   "metadata": {
    "collapsed": false
   },
   "outputs": [
    {
     "data": {
      "text/plain": [
       "Index(['lca_case_number', 'status', 'lca_case_submit', 'decision_date',\n",
       "       'visa_class', 'lca_case_employment_start_date',\n",
       "       'lca_case_employment_end_date', 'lca_case_employer_name',\n",
       "       'lca_case_employer_address', 'lca_case_employer_city',\n",
       "       'lca_case_employer_state', 'lca_case_employer_postal_code',\n",
       "       'lca_case_soc_code', 'lca_case_soc_name', 'lca_case_job_title',\n",
       "       'lca_case_wage_rate_from', 'lca_case_wage_rate_to',\n",
       "       'lca_case_wage_rate_unit', 'full_time_pos', 'total_workers',\n",
       "       'lca_case_workloc1_city', 'lca_case_workloc1_state', 'pw_1',\n",
       "       'pw_unit_1', 'pw_source_1', 'other_wage_source_1', 'yr_source_pub_1',\n",
       "       'lca_case_workloc2_city', 'lca_case_workloc2_state', 'pw_2',\n",
       "       'pw_unit_2', 'pw_source_2', 'other_wage_source_2', 'yr_source_pub_2',\n",
       "       'lca_case_naics_code'],\n",
       "      dtype='object')"
      ]
     },
     "execution_count": 100,
     "metadata": {},
     "output_type": "execute_result"
    }
   ],
   "source": [
    "df.columns"
   ]
  },
  {
   "cell_type": "code",
   "execution_count": null,
   "metadata": {
    "collapsed": true
   },
   "outputs": [],
   "source": []
  }
 ],
 "metadata": {
  "kernelspec": {
   "display_name": "Python 3",
   "language": "python",
   "name": "python3"
  },
  "language_info": {
   "codemirror_mode": {
    "name": "ipython",
    "version": 3
   },
   "file_extension": ".py",
   "mimetype": "text/x-python",
   "name": "python",
   "nbconvert_exporter": "python",
   "pygments_lexer": "ipython3",
   "version": "3.5.2"
  }
 },
 "nbformat": 4,
 "nbformat_minor": 2
}
